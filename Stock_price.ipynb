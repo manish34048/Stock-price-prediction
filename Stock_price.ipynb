{
  "nbformat": 4,
  "nbformat_minor": 0,
  "metadata": {
    "kernelspec": {
      "display_name": "Python 3",
      "language": "python",
      "name": "python3"
    },
    "language_info": {
      "codemirror_mode": {
        "name": "ipython",
        "version": 3
      },
      "file_extension": ".py",
      "mimetype": "text/x-python",
      "name": "python",
      "nbconvert_exporter": "python",
      "pygments_lexer": "ipython3",
      "version": "3.8.5"
    },
    "colab": {
      "name": "Stock price.ipynb",
      "provenance": [],
      "include_colab_link": true
    }
  },
  "cells": [
    {
      "cell_type": "markdown",
      "metadata": {
        "id": "view-in-github",
        "colab_type": "text"
      },
      "source": [
        "<a href=\"https://colab.research.google.com/github/manish34048/Stock-price-prediction/blob/main/Stock_price.ipynb\" target=\"_parent\"><img src=\"https://colab.research.google.com/assets/colab-badge.svg\" alt=\"Open In Colab\"/></a>"
      ]
    },
    {
      "cell_type": "markdown",
      "metadata": {
        "id": "qAuSzFZcmr6U"
      },
      "source": [
        "### Stock Market Prediction And Forecasting Using Stacked LSTM"
      ]
    },
    {
      "cell_type": "code",
      "metadata": {
        "id": "r1KljIBzmr6Z"
      },
      "source": [
        "import pandas as pd"
      ],
      "execution_count": 67,
      "outputs": []
    },
    {
      "cell_type": "code",
      "metadata": {
        "colab": {
          "resources": {
            "http://localhost:8080/nbextensions/google.colab/files.js": {
              "data": "Ly8gQ29weXJpZ2h0IDIwMTcgR29vZ2xlIExMQwovLwovLyBMaWNlbnNlZCB1bmRlciB0aGUgQXBhY2hlIExpY2Vuc2UsIFZlcnNpb24gMi4wICh0aGUgIkxpY2Vuc2UiKTsKLy8geW91IG1heSBub3QgdXNlIHRoaXMgZmlsZSBleGNlcHQgaW4gY29tcGxpYW5jZSB3aXRoIHRoZSBMaWNlbnNlLgovLyBZb3UgbWF5IG9idGFpbiBhIGNvcHkgb2YgdGhlIExpY2Vuc2UgYXQKLy8KLy8gICAgICBodHRwOi8vd3d3LmFwYWNoZS5vcmcvbGljZW5zZXMvTElDRU5TRS0yLjAKLy8KLy8gVW5sZXNzIHJlcXVpcmVkIGJ5IGFwcGxpY2FibGUgbGF3IG9yIGFncmVlZCB0byBpbiB3cml0aW5nLCBzb2Z0d2FyZQovLyBkaXN0cmlidXRlZCB1bmRlciB0aGUgTGljZW5zZSBpcyBkaXN0cmlidXRlZCBvbiBhbiAiQVMgSVMiIEJBU0lTLAovLyBXSVRIT1VUIFdBUlJBTlRJRVMgT1IgQ09ORElUSU9OUyBPRiBBTlkgS0lORCwgZWl0aGVyIGV4cHJlc3Mgb3IgaW1wbGllZC4KLy8gU2VlIHRoZSBMaWNlbnNlIGZvciB0aGUgc3BlY2lmaWMgbGFuZ3VhZ2UgZ292ZXJuaW5nIHBlcm1pc3Npb25zIGFuZAovLyBsaW1pdGF0aW9ucyB1bmRlciB0aGUgTGljZW5zZS4KCi8qKgogKiBAZmlsZW92ZXJ2aWV3IEhlbHBlcnMgZm9yIGdvb2dsZS5jb2xhYiBQeXRob24gbW9kdWxlLgogKi8KKGZ1bmN0aW9uKHNjb3BlKSB7CmZ1bmN0aW9uIHNwYW4odGV4dCwgc3R5bGVBdHRyaWJ1dGVzID0ge30pIHsKICBjb25zdCBlbGVtZW50ID0gZG9jdW1lbnQuY3JlYXRlRWxlbWVudCgnc3BhbicpOwogIGVsZW1lbnQudGV4dENvbnRlbnQgPSB0ZXh0OwogIGZvciAoY29uc3Qga2V5IG9mIE9iamVjdC5rZXlzKHN0eWxlQXR0cmlidXRlcykpIHsKICAgIGVsZW1lbnQuc3R5bGVba2V5XSA9IHN0eWxlQXR0cmlidXRlc1trZXldOwogIH0KICByZXR1cm4gZWxlbWVudDsKfQoKLy8gTWF4IG51bWJlciBvZiBieXRlcyB3aGljaCB3aWxsIGJlIHVwbG9hZGVkIGF0IGEgdGltZS4KY29uc3QgTUFYX1BBWUxPQURfU0laRSA9IDEwMCAqIDEwMjQ7CgpmdW5jdGlvbiBfdXBsb2FkRmlsZXMoaW5wdXRJZCwgb3V0cHV0SWQpIHsKICBjb25zdCBzdGVwcyA9IHVwbG9hZEZpbGVzU3RlcChpbnB1dElkLCBvdXRwdXRJZCk7CiAgY29uc3Qgb3V0cHV0RWxlbWVudCA9IGRvY3VtZW50LmdldEVsZW1lbnRCeUlkKG91dHB1dElkKTsKICAvLyBDYWNoZSBzdGVwcyBvbiB0aGUgb3V0cHV0RWxlbWVudCB0byBtYWtlIGl0IGF2YWlsYWJsZSBmb3IgdGhlIG5leHQgY2FsbAogIC8vIHRvIHVwbG9hZEZpbGVzQ29udGludWUgZnJvbSBQeXRob24uCiAgb3V0cHV0RWxlbWVudC5zdGVwcyA9IHN0ZXBzOwoKICByZXR1cm4gX3VwbG9hZEZpbGVzQ29udGludWUob3V0cHV0SWQpOwp9CgovLyBUaGlzIGlzIHJvdWdobHkgYW4gYXN5bmMgZ2VuZXJhdG9yIChub3Qgc3VwcG9ydGVkIGluIHRoZSBicm93c2VyIHlldCksCi8vIHdoZXJlIHRoZXJlIGFyZSBtdWx0aXBsZSBhc3luY2hyb25vdXMgc3RlcHMgYW5kIHRoZSBQeXRob24gc2lkZSBpcyBnb2luZwovLyB0byBwb2xsIGZvciBjb21wbGV0aW9uIG9mIGVhY2ggc3RlcC4KLy8gVGhpcyB1c2VzIGEgUHJvbWlzZSB0byBibG9jayB0aGUgcHl0aG9uIHNpZGUgb24gY29tcGxldGlvbiBvZiBlYWNoIHN0ZXAsCi8vIHRoZW4gcGFzc2VzIHRoZSByZXN1bHQgb2YgdGhlIHByZXZpb3VzIHN0ZXAgYXMgdGhlIGlucHV0IHRvIHRoZSBuZXh0IHN0ZXAuCmZ1bmN0aW9uIF91cGxvYWRGaWxlc0NvbnRpbnVlKG91dHB1dElkKSB7CiAgY29uc3Qgb3V0cHV0RWxlbWVudCA9IGRvY3VtZW50LmdldEVsZW1lbnRCeUlkKG91dHB1dElkKTsKICBjb25zdCBzdGVwcyA9IG91dHB1dEVsZW1lbnQuc3RlcHM7CgogIGNvbnN0IG5leHQgPSBzdGVwcy5uZXh0KG91dHB1dEVsZW1lbnQubGFzdFByb21pc2VWYWx1ZSk7CiAgcmV0dXJuIFByb21pc2UucmVzb2x2ZShuZXh0LnZhbHVlLnByb21pc2UpLnRoZW4oKHZhbHVlKSA9PiB7CiAgICAvLyBDYWNoZSB0aGUgbGFzdCBwcm9taXNlIHZhbHVlIHRvIG1ha2UgaXQgYXZhaWxhYmxlIHRvIHRoZSBuZXh0CiAgICAvLyBzdGVwIG9mIHRoZSBnZW5lcmF0b3IuCiAgICBvdXRwdXRFbGVtZW50Lmxhc3RQcm9taXNlVmFsdWUgPSB2YWx1ZTsKICAgIHJldHVybiBuZXh0LnZhbHVlLnJlc3BvbnNlOwogIH0pOwp9CgovKioKICogR2VuZXJhdG9yIGZ1bmN0aW9uIHdoaWNoIGlzIGNhbGxlZCBiZXR3ZWVuIGVhY2ggYXN5bmMgc3RlcCBvZiB0aGUgdXBsb2FkCiAqIHByb2Nlc3MuCiAqIEBwYXJhbSB7c3RyaW5nfSBpbnB1dElkIEVsZW1lbnQgSUQgb2YgdGhlIGlucHV0IGZpbGUgcGlja2VyIGVsZW1lbnQuCiAqIEBwYXJhbSB7c3RyaW5nfSBvdXRwdXRJZCBFbGVtZW50IElEIG9mIHRoZSBvdXRwdXQgZGlzcGxheS4KICogQHJldHVybiB7IUl0ZXJhYmxlPCFPYmplY3Q+fSBJdGVyYWJsZSBvZiBuZXh0IHN0ZXBzLgogKi8KZnVuY3Rpb24qIHVwbG9hZEZpbGVzU3RlcChpbnB1dElkLCBvdXRwdXRJZCkgewogIGNvbnN0IGlucHV0RWxlbWVudCA9IGRvY3VtZW50LmdldEVsZW1lbnRCeUlkKGlucHV0SWQpOwogIGlucHV0RWxlbWVudC5kaXNhYmxlZCA9IGZhbHNlOwoKICBjb25zdCBvdXRwdXRFbGVtZW50ID0gZG9jdW1lbnQuZ2V0RWxlbWVudEJ5SWQob3V0cHV0SWQpOwogIG91dHB1dEVsZW1lbnQuaW5uZXJIVE1MID0gJyc7CgogIGNvbnN0IHBpY2tlZFByb21pc2UgPSBuZXcgUHJvbWlzZSgocmVzb2x2ZSkgPT4gewogICAgaW5wdXRFbGVtZW50LmFkZEV2ZW50TGlzdGVuZXIoJ2NoYW5nZScsIChlKSA9PiB7CiAgICAgIHJlc29sdmUoZS50YXJnZXQuZmlsZXMpOwogICAgfSk7CiAgfSk7CgogIGNvbnN0IGNhbmNlbCA9IGRvY3VtZW50LmNyZWF0ZUVsZW1lbnQoJ2J1dHRvbicpOwogIGlucHV0RWxlbWVudC5wYXJlbnRFbGVtZW50LmFwcGVuZENoaWxkKGNhbmNlbCk7CiAgY2FuY2VsLnRleHRDb250ZW50ID0gJ0NhbmNlbCB1cGxvYWQnOwogIGNvbnN0IGNhbmNlbFByb21pc2UgPSBuZXcgUHJvbWlzZSgocmVzb2x2ZSkgPT4gewogICAgY2FuY2VsLm9uY2xpY2sgPSAoKSA9PiB7CiAgICAgIHJlc29sdmUobnVsbCk7CiAgICB9OwogIH0pOwoKICAvLyBXYWl0IGZvciB0aGUgdXNlciB0byBwaWNrIHRoZSBmaWxlcy4KICBjb25zdCBmaWxlcyA9IHlpZWxkIHsKICAgIHByb21pc2U6IFByb21pc2UucmFjZShbcGlja2VkUHJvbWlzZSwgY2FuY2VsUHJvbWlzZV0pLAogICAgcmVzcG9uc2U6IHsKICAgICAgYWN0aW9uOiAnc3RhcnRpbmcnLAogICAgfQogIH07CgogIGNhbmNlbC5yZW1vdmUoKTsKCiAgLy8gRGlzYWJsZSB0aGUgaW5wdXQgZWxlbWVudCBzaW5jZSBmdXJ0aGVyIHBpY2tzIGFyZSBub3QgYWxsb3dlZC4KICBpbnB1dEVsZW1lbnQuZGlzYWJsZWQgPSB0cnVlOwoKICBpZiAoIWZpbGVzKSB7CiAgICByZXR1cm4gewogICAgICByZXNwb25zZTogewogICAgICAgIGFjdGlvbjogJ2NvbXBsZXRlJywKICAgICAgfQogICAgfTsKICB9CgogIGZvciAoY29uc3QgZmlsZSBvZiBmaWxlcykgewogICAgY29uc3QgbGkgPSBkb2N1bWVudC5jcmVhdGVFbGVtZW50KCdsaScpOwogICAgbGkuYXBwZW5kKHNwYW4oZmlsZS5uYW1lLCB7Zm9udFdlaWdodDogJ2JvbGQnfSkpOwogICAgbGkuYXBwZW5kKHNwYW4oCiAgICAgICAgYCgke2ZpbGUudHlwZSB8fCAnbi9hJ30pIC0gJHtmaWxlLnNpemV9IGJ5dGVzLCBgICsKICAgICAgICBgbGFzdCBtb2RpZmllZDogJHsKICAgICAgICAgICAgZmlsZS5sYXN0TW9kaWZpZWREYXRlID8gZmlsZS5sYXN0TW9kaWZpZWREYXRlLnRvTG9jYWxlRGF0ZVN0cmluZygpIDoKICAgICAgICAgICAgICAgICAgICAgICAgICAgICAgICAgICAgJ24vYSd9IC0gYCkpOwogICAgY29uc3QgcGVyY2VudCA9IHNwYW4oJzAlIGRvbmUnKTsKICAgIGxpLmFwcGVuZENoaWxkKHBlcmNlbnQpOwoKICAgIG91dHB1dEVsZW1lbnQuYXBwZW5kQ2hpbGQobGkpOwoKICAgIGNvbnN0IGZpbGVEYXRhUHJvbWlzZSA9IG5ldyBQcm9taXNlKChyZXNvbHZlKSA9PiB7CiAgICAgIGNvbnN0IHJlYWRlciA9IG5ldyBGaWxlUmVhZGVyKCk7CiAgICAgIHJlYWRlci5vbmxvYWQgPSAoZSkgPT4gewogICAgICAgIHJlc29sdmUoZS50YXJnZXQucmVzdWx0KTsKICAgICAgfTsKICAgICAgcmVhZGVyLnJlYWRBc0FycmF5QnVmZmVyKGZpbGUpOwogICAgfSk7CiAgICAvLyBXYWl0IGZvciB0aGUgZGF0YSB0byBiZSByZWFkeS4KICAgIGxldCBmaWxlRGF0YSA9IHlpZWxkIHsKICAgICAgcHJvbWlzZTogZmlsZURhdGFQcm9taXNlLAogICAgICByZXNwb25zZTogewogICAgICAgIGFjdGlvbjogJ2NvbnRpbnVlJywKICAgICAgfQogICAgfTsKCiAgICAvLyBVc2UgYSBjaHVua2VkIHNlbmRpbmcgdG8gYXZvaWQgbWVzc2FnZSBzaXplIGxpbWl0cy4gU2VlIGIvNjIxMTU2NjAuCiAgICBsZXQgcG9zaXRpb24gPSAwOwogICAgd2hpbGUgKHBvc2l0aW9uIDwgZmlsZURhdGEuYnl0ZUxlbmd0aCkgewogICAgICBjb25zdCBsZW5ndGggPSBNYXRoLm1pbihmaWxlRGF0YS5ieXRlTGVuZ3RoIC0gcG9zaXRpb24sIE1BWF9QQVlMT0FEX1NJWkUpOwogICAgICBjb25zdCBjaHVuayA9IG5ldyBVaW50OEFycmF5KGZpbGVEYXRhLCBwb3NpdGlvbiwgbGVuZ3RoKTsKICAgICAgcG9zaXRpb24gKz0gbGVuZ3RoOwoKICAgICAgY29uc3QgYmFzZTY0ID0gYnRvYShTdHJpbmcuZnJvbUNoYXJDb2RlLmFwcGx5KG51bGwsIGNodW5rKSk7CiAgICAgIHlpZWxkIHsKICAgICAgICByZXNwb25zZTogewogICAgICAgICAgYWN0aW9uOiAnYXBwZW5kJywKICAgICAgICAgIGZpbGU6IGZpbGUubmFtZSwKICAgICAgICAgIGRhdGE6IGJhc2U2NCwKICAgICAgICB9LAogICAgICB9OwogICAgICBwZXJjZW50LnRleHRDb250ZW50ID0KICAgICAgICAgIGAke01hdGgucm91bmQoKHBvc2l0aW9uIC8gZmlsZURhdGEuYnl0ZUxlbmd0aCkgKiAxMDApfSUgZG9uZWA7CiAgICB9CiAgfQoKICAvLyBBbGwgZG9uZS4KICB5aWVsZCB7CiAgICByZXNwb25zZTogewogICAgICBhY3Rpb246ICdjb21wbGV0ZScsCiAgICB9CiAgfTsKfQoKc2NvcGUuZ29vZ2xlID0gc2NvcGUuZ29vZ2xlIHx8IHt9OwpzY29wZS5nb29nbGUuY29sYWIgPSBzY29wZS5nb29nbGUuY29sYWIgfHwge307CnNjb3BlLmdvb2dsZS5jb2xhYi5fZmlsZXMgPSB7CiAgX3VwbG9hZEZpbGVzLAogIF91cGxvYWRGaWxlc0NvbnRpbnVlLAp9Owp9KShzZWxmKTsK",
              "ok": true,
              "headers": [
                [
                  "content-type",
                  "application/javascript"
                ]
              ],
              "status": 200,
              "status_text": ""
            }
          },
          "base_uri": "https://localhost:8080/",
          "height": 72
        },
        "id": "HyFwFDiy88s0",
        "outputId": "e354b933-096e-4de3-d40f-9825d3ca23de"
      },
      "source": [
        "from google.colab import files\n",
        "uploaded =files.upload()"
      ],
      "execution_count": 68,
      "outputs": [
        {
          "output_type": "display_data",
          "data": {
            "text/html": [
              "\n",
              "     <input type=\"file\" id=\"files-671d1ebd-58b7-4496-91e7-6f8af146f478\" name=\"files[]\" multiple disabled\n",
              "        style=\"border:none\" />\n",
              "     <output id=\"result-671d1ebd-58b7-4496-91e7-6f8af146f478\">\n",
              "      Upload widget is only available when the cell has been executed in the\n",
              "      current browser session. Please rerun this cell to enable.\n",
              "      </output>\n",
              "      <script src=\"/nbextensions/google.colab/files.js\"></script> "
            ],
            "text/plain": [
              "<IPython.core.display.HTML object>"
            ]
          },
          "metadata": {
            "tags": []
          }
        },
        {
          "output_type": "stream",
          "text": [
            "Saving AAPL.csv to AAPL (2).csv\n"
          ],
          "name": "stdout"
        }
      ]
    },
    {
      "cell_type": "code",
      "metadata": {
        "id": "NrD0k4ESmr6a"
      },
      "source": [
        "df=pd.read_csv('AAPL.csv')"
      ],
      "execution_count": 69,
      "outputs": []
    },
    {
      "cell_type": "code",
      "metadata": {
        "colab": {
          "base_uri": "https://localhost:8080/",
          "height": 306
        },
        "id": "UyZP6BZHmr6a",
        "outputId": "b35a29e4-8517-46bd-8835-6f46b56bcdf5"
      },
      "source": [
        "df.head()"
      ],
      "execution_count": 70,
      "outputs": [
        {
          "output_type": "execute_result",
          "data": {
            "text/html": [
              "<div>\n",
              "<style scoped>\n",
              "    .dataframe tbody tr th:only-of-type {\n",
              "        vertical-align: middle;\n",
              "    }\n",
              "\n",
              "    .dataframe tbody tr th {\n",
              "        vertical-align: top;\n",
              "    }\n",
              "\n",
              "    .dataframe thead th {\n",
              "        text-align: right;\n",
              "    }\n",
              "</style>\n",
              "<table border=\"1\" class=\"dataframe\">\n",
              "  <thead>\n",
              "    <tr style=\"text-align: right;\">\n",
              "      <th></th>\n",
              "      <th>Unnamed: 0</th>\n",
              "      <th>symbol</th>\n",
              "      <th>date</th>\n",
              "      <th>close</th>\n",
              "      <th>high</th>\n",
              "      <th>low</th>\n",
              "      <th>open</th>\n",
              "      <th>volume</th>\n",
              "      <th>adjClose</th>\n",
              "      <th>adjHigh</th>\n",
              "      <th>adjLow</th>\n",
              "      <th>adjOpen</th>\n",
              "      <th>adjVolume</th>\n",
              "      <th>divCash</th>\n",
              "      <th>splitFactor</th>\n",
              "    </tr>\n",
              "  </thead>\n",
              "  <tbody>\n",
              "    <tr>\n",
              "      <th>0</th>\n",
              "      <td>0</td>\n",
              "      <td>AAPL</td>\n",
              "      <td>2015-05-27 00:00:00+00:00</td>\n",
              "      <td>132.045</td>\n",
              "      <td>132.260</td>\n",
              "      <td>130.05</td>\n",
              "      <td>130.34</td>\n",
              "      <td>45833246</td>\n",
              "      <td>121.682558</td>\n",
              "      <td>121.880685</td>\n",
              "      <td>119.844118</td>\n",
              "      <td>120.111360</td>\n",
              "      <td>45833246</td>\n",
              "      <td>0.0</td>\n",
              "      <td>1.0</td>\n",
              "    </tr>\n",
              "    <tr>\n",
              "      <th>1</th>\n",
              "      <td>1</td>\n",
              "      <td>AAPL</td>\n",
              "      <td>2015-05-28 00:00:00+00:00</td>\n",
              "      <td>131.780</td>\n",
              "      <td>131.950</td>\n",
              "      <td>131.10</td>\n",
              "      <td>131.86</td>\n",
              "      <td>30733309</td>\n",
              "      <td>121.438354</td>\n",
              "      <td>121.595013</td>\n",
              "      <td>120.811718</td>\n",
              "      <td>121.512076</td>\n",
              "      <td>30733309</td>\n",
              "      <td>0.0</td>\n",
              "      <td>1.0</td>\n",
              "    </tr>\n",
              "    <tr>\n",
              "      <th>2</th>\n",
              "      <td>2</td>\n",
              "      <td>AAPL</td>\n",
              "      <td>2015-05-29 00:00:00+00:00</td>\n",
              "      <td>130.280</td>\n",
              "      <td>131.450</td>\n",
              "      <td>129.90</td>\n",
              "      <td>131.23</td>\n",
              "      <td>50884452</td>\n",
              "      <td>120.056069</td>\n",
              "      <td>121.134251</td>\n",
              "      <td>119.705890</td>\n",
              "      <td>120.931516</td>\n",
              "      <td>50884452</td>\n",
              "      <td>0.0</td>\n",
              "      <td>1.0</td>\n",
              "    </tr>\n",
              "    <tr>\n",
              "      <th>3</th>\n",
              "      <td>3</td>\n",
              "      <td>AAPL</td>\n",
              "      <td>2015-06-01 00:00:00+00:00</td>\n",
              "      <td>130.535</td>\n",
              "      <td>131.390</td>\n",
              "      <td>130.05</td>\n",
              "      <td>131.20</td>\n",
              "      <td>32112797</td>\n",
              "      <td>120.291057</td>\n",
              "      <td>121.078960</td>\n",
              "      <td>119.844118</td>\n",
              "      <td>120.903870</td>\n",
              "      <td>32112797</td>\n",
              "      <td>0.0</td>\n",
              "      <td>1.0</td>\n",
              "    </tr>\n",
              "    <tr>\n",
              "      <th>4</th>\n",
              "      <td>4</td>\n",
              "      <td>AAPL</td>\n",
              "      <td>2015-06-02 00:00:00+00:00</td>\n",
              "      <td>129.960</td>\n",
              "      <td>130.655</td>\n",
              "      <td>129.32</td>\n",
              "      <td>129.86</td>\n",
              "      <td>33667627</td>\n",
              "      <td>119.761181</td>\n",
              "      <td>120.401640</td>\n",
              "      <td>119.171406</td>\n",
              "      <td>119.669029</td>\n",
              "      <td>33667627</td>\n",
              "      <td>0.0</td>\n",
              "      <td>1.0</td>\n",
              "    </tr>\n",
              "  </tbody>\n",
              "</table>\n",
              "</div>"
            ],
            "text/plain": [
              "   Unnamed: 0 symbol  ... divCash  splitFactor\n",
              "0           0   AAPL  ...     0.0          1.0\n",
              "1           1   AAPL  ...     0.0          1.0\n",
              "2           2   AAPL  ...     0.0          1.0\n",
              "3           3   AAPL  ...     0.0          1.0\n",
              "4           4   AAPL  ...     0.0          1.0\n",
              "\n",
              "[5 rows x 15 columns]"
            ]
          },
          "metadata": {
            "tags": []
          },
          "execution_count": 70
        }
      ]
    },
    {
      "cell_type": "code",
      "metadata": {
        "colab": {
          "base_uri": "https://localhost:8080/",
          "height": 204
        },
        "id": "L81Lvz4Amr6c",
        "outputId": "adf4f5a6-a930-43c5-e3ad-c0918c236e34"
      },
      "source": [
        "df.tail()"
      ],
      "execution_count": 71,
      "outputs": [
        {
          "output_type": "execute_result",
          "data": {
            "text/html": [
              "<div>\n",
              "<style scoped>\n",
              "    .dataframe tbody tr th:only-of-type {\n",
              "        vertical-align: middle;\n",
              "    }\n",
              "\n",
              "    .dataframe tbody tr th {\n",
              "        vertical-align: top;\n",
              "    }\n",
              "\n",
              "    .dataframe thead th {\n",
              "        text-align: right;\n",
              "    }\n",
              "</style>\n",
              "<table border=\"1\" class=\"dataframe\">\n",
              "  <thead>\n",
              "    <tr style=\"text-align: right;\">\n",
              "      <th></th>\n",
              "      <th>Unnamed: 0</th>\n",
              "      <th>symbol</th>\n",
              "      <th>date</th>\n",
              "      <th>close</th>\n",
              "      <th>high</th>\n",
              "      <th>low</th>\n",
              "      <th>open</th>\n",
              "      <th>volume</th>\n",
              "      <th>adjClose</th>\n",
              "      <th>adjHigh</th>\n",
              "      <th>adjLow</th>\n",
              "      <th>adjOpen</th>\n",
              "      <th>adjVolume</th>\n",
              "      <th>divCash</th>\n",
              "      <th>splitFactor</th>\n",
              "    </tr>\n",
              "  </thead>\n",
              "  <tbody>\n",
              "    <tr>\n",
              "      <th>1253</th>\n",
              "      <td>1253</td>\n",
              "      <td>AAPL</td>\n",
              "      <td>2020-05-18 00:00:00+00:00</td>\n",
              "      <td>314.96</td>\n",
              "      <td>316.50</td>\n",
              "      <td>310.3241</td>\n",
              "      <td>313.17</td>\n",
              "      <td>33843125</td>\n",
              "      <td>314.96</td>\n",
              "      <td>316.50</td>\n",
              "      <td>310.3241</td>\n",
              "      <td>313.17</td>\n",
              "      <td>33843125</td>\n",
              "      <td>0.0</td>\n",
              "      <td>1.0</td>\n",
              "    </tr>\n",
              "    <tr>\n",
              "      <th>1254</th>\n",
              "      <td>1254</td>\n",
              "      <td>AAPL</td>\n",
              "      <td>2020-05-19 00:00:00+00:00</td>\n",
              "      <td>313.14</td>\n",
              "      <td>318.52</td>\n",
              "      <td>313.0100</td>\n",
              "      <td>315.03</td>\n",
              "      <td>25432385</td>\n",
              "      <td>313.14</td>\n",
              "      <td>318.52</td>\n",
              "      <td>313.0100</td>\n",
              "      <td>315.03</td>\n",
              "      <td>25432385</td>\n",
              "      <td>0.0</td>\n",
              "      <td>1.0</td>\n",
              "    </tr>\n",
              "    <tr>\n",
              "      <th>1255</th>\n",
              "      <td>1255</td>\n",
              "      <td>AAPL</td>\n",
              "      <td>2020-05-20 00:00:00+00:00</td>\n",
              "      <td>319.23</td>\n",
              "      <td>319.52</td>\n",
              "      <td>316.2000</td>\n",
              "      <td>316.68</td>\n",
              "      <td>27876215</td>\n",
              "      <td>319.23</td>\n",
              "      <td>319.52</td>\n",
              "      <td>316.2000</td>\n",
              "      <td>316.68</td>\n",
              "      <td>27876215</td>\n",
              "      <td>0.0</td>\n",
              "      <td>1.0</td>\n",
              "    </tr>\n",
              "    <tr>\n",
              "      <th>1256</th>\n",
              "      <td>1256</td>\n",
              "      <td>AAPL</td>\n",
              "      <td>2020-05-21 00:00:00+00:00</td>\n",
              "      <td>316.85</td>\n",
              "      <td>320.89</td>\n",
              "      <td>315.8700</td>\n",
              "      <td>318.66</td>\n",
              "      <td>25672211</td>\n",
              "      <td>316.85</td>\n",
              "      <td>320.89</td>\n",
              "      <td>315.8700</td>\n",
              "      <td>318.66</td>\n",
              "      <td>25672211</td>\n",
              "      <td>0.0</td>\n",
              "      <td>1.0</td>\n",
              "    </tr>\n",
              "    <tr>\n",
              "      <th>1257</th>\n",
              "      <td>1257</td>\n",
              "      <td>AAPL</td>\n",
              "      <td>2020-05-22 00:00:00+00:00</td>\n",
              "      <td>318.89</td>\n",
              "      <td>319.23</td>\n",
              "      <td>315.3500</td>\n",
              "      <td>315.77</td>\n",
              "      <td>20450754</td>\n",
              "      <td>318.89</td>\n",
              "      <td>319.23</td>\n",
              "      <td>315.3500</td>\n",
              "      <td>315.77</td>\n",
              "      <td>20450754</td>\n",
              "      <td>0.0</td>\n",
              "      <td>1.0</td>\n",
              "    </tr>\n",
              "  </tbody>\n",
              "</table>\n",
              "</div>"
            ],
            "text/plain": [
              "      Unnamed: 0 symbol  ... divCash  splitFactor\n",
              "1253        1253   AAPL  ...     0.0          1.0\n",
              "1254        1254   AAPL  ...     0.0          1.0\n",
              "1255        1255   AAPL  ...     0.0          1.0\n",
              "1256        1256   AAPL  ...     0.0          1.0\n",
              "1257        1257   AAPL  ...     0.0          1.0\n",
              "\n",
              "[5 rows x 15 columns]"
            ]
          },
          "metadata": {
            "tags": []
          },
          "execution_count": 71
        }
      ]
    },
    {
      "cell_type": "code",
      "metadata": {
        "id": "q2nvTKvPmr6c"
      },
      "source": [
        "df1=df.reset_index()['close']"
      ],
      "execution_count": 72,
      "outputs": []
    },
    {
      "cell_type": "code",
      "metadata": {
        "colab": {
          "base_uri": "https://localhost:8080/"
        },
        "id": "lBe2_f2vmr6d",
        "outputId": "2e4e4955-8f40-42a7-d925-e72a072333f0"
      },
      "source": [
        "df1"
      ],
      "execution_count": 73,
      "outputs": [
        {
          "output_type": "execute_result",
          "data": {
            "text/plain": [
              "0       132.045\n",
              "1       131.780\n",
              "2       130.280\n",
              "3       130.535\n",
              "4       129.960\n",
              "         ...   \n",
              "1253    314.960\n",
              "1254    313.140\n",
              "1255    319.230\n",
              "1256    316.850\n",
              "1257    318.890\n",
              "Name: close, Length: 1258, dtype: float64"
            ]
          },
          "metadata": {
            "tags": []
          },
          "execution_count": 73
        }
      ]
    },
    {
      "cell_type": "code",
      "metadata": {
        "colab": {
          "base_uri": "https://localhost:8080/",
          "height": 282
        },
        "id": "f8y8lKnwmr6d",
        "outputId": "6d417ab7-c5d9-4c25-e4aa-8e4a1c79f0ba"
      },
      "source": [
        "import matplotlib.pyplot as plt\n",
        "plt.plot(df1)"
      ],
      "execution_count": 74,
      "outputs": [
        {
          "output_type": "execute_result",
          "data": {
            "text/plain": [
              "[<matplotlib.lines.Line2D at 0x7f0130b00bd0>]"
            ]
          },
          "metadata": {
            "tags": []
          },
          "execution_count": 74
        },
        {
          "output_type": "display_data",
          "data": {
            "image/png": "[encoded data removed]",
            "text/plain": [
              "<Figure size 432x288 with 1 Axes>"
            ]
          },
          "metadata": {
            "tags": [],
            "needs_background": "light"
          }
        }
      ]
    },
    {
      "cell_type": "code",
      "metadata": {
        "id": "xjHWetkfmr6e"
      },
      "source": [
        "### LSTM are sensitive to the scale of the data. so we apply MinMax scaler "
      ],
      "execution_count": null,
      "outputs": []
    },
    {
      "cell_type": "code",
      "metadata": {
        "id": "E2V6PtjBmr6e"
      },
      "source": [
        "import numpy as np"
      ],
      "execution_count": 75,
      "outputs": []
    },
    {
      "cell_type": "code",
      "metadata": {
        "colab": {
          "base_uri": "https://localhost:8080/"
        },
        "id": "v3hzPiLMmr6e",
        "outputId": "72a9a630-bdbe-4afd-9e40-436cf9b22b0f"
      },
      "source": [
        "df1"
      ],
      "execution_count": 76,
      "outputs": [
        {
          "output_type": "execute_result",
          "data": {
            "text/plain": [
              "0       132.045\n",
              "1       131.780\n",
              "2       130.280\n",
              "3       130.535\n",
              "4       129.960\n",
              "         ...   \n",
              "1253    314.960\n",
              "1254    313.140\n",
              "1255    319.230\n",
              "1256    316.850\n",
              "1257    318.890\n",
              "Name: close, Length: 1258, dtype: float64"
            ]
          },
          "metadata": {
            "tags": []
          },
          "execution_count": 76
        }
      ]
    },
    {
      "cell_type": "code",
      "metadata": {
        "id": "D9W-OmiJmr6f"
      },
      "source": [
        "from sklearn.preprocessing import MinMaxScaler\n",
        "scaler=MinMaxScaler(feature_range=(0,1))\n",
        "df1=scaler.fit_transform(np.array(df1).reshape(-1,1))"
      ],
      "execution_count": 77,
      "outputs": []
    },
    {
      "cell_type": "code",
      "metadata": {
        "colab": {
          "base_uri": "https://localhost:8080/"
        },
        "id": "Lh-avbSomr6f",
        "outputId": "b3abcb6e-8031-45b7-8c66-17b75c907c7b"
      },
      "source": [
        "print(df1)"
      ],
      "execution_count": 78,
      "outputs": [
        {
          "output_type": "stream",
          "text": [
            "[[0.17607447]\n",
            " [0.17495567]\n",
            " [0.16862282]\n",
            " ...\n",
            " [0.96635143]\n",
            " [0.9563033 ]\n",
            " [0.96491598]]\n"
          ],
          "name": "stdout"
        }
      ]
    },
    {
      "cell_type": "code",
      "metadata": {
        "id": "TtToNmwqmr6f"
      },
      "source": [
        "##splitting dataset into train and test split\n",
        "training_size=int(len(df1)*0.65)\n",
        "test_size=len(df1)-training_size\n",
        "train_data,test_data=df1[0:training_size,:],df1[training_size:len(df1),:1]"
      ],
      "execution_count": 79,
      "outputs": []
    },
    {
      "cell_type": "code",
      "metadata": {
        "colab": {
          "base_uri": "https://localhost:8080/"
        },
        "id": "yFpVAw89mr6g",
        "outputId": "6c723666-b2d4-4f35-96f7-1fb7ed7cd318"
      },
      "source": [
        "training_size,test_size"
      ],
      "execution_count": 80,
      "outputs": [
        {
          "output_type": "execute_result",
          "data": {
            "text/plain": [
              "(817, 441)"
            ]
          },
          "metadata": {
            "tags": []
          },
          "execution_count": 80
        }
      ]
    },
    {
      "cell_type": "code",
      "metadata": {
        "colab": {
          "base_uri": "https://localhost:8080/"
        },
        "id": "6VuMa7XDmr6g",
        "outputId": "d9a236e0-3c6e-4fa3-f78b-779e2784d5c2"
      },
      "source": [
        "train_data"
      ],
      "execution_count": 81,
      "outputs": [
        {
          "output_type": "execute_result",
          "data": {
            "text/plain": [
              "array([[0.17607447],\n",
              "       [0.17495567],\n",
              "       [0.16862282],\n",
              "       [0.1696994 ],\n",
              "       [0.16727181],\n",
              "       [0.16794731],\n",
              "       [0.16473866],\n",
              "       [0.16174111],\n",
              "       [0.1581525 ],\n",
              "       [0.15654817],\n",
              "       [0.16271215],\n",
              "       [0.1614878 ],\n",
              "       [0.1554927 ],\n",
              "       [0.15443722],\n",
              "       [0.15730811],\n",
              "       [0.15604154],\n",
              "       [0.15849025],\n",
              "       [0.15308621],\n",
              "       [0.15735033],\n",
              "       [0.15490163],\n",
              "       [0.15946129],\n",
              "       [0.15688592],\n",
              "       [0.1537195 ],\n",
              "       [0.14434687],\n",
              "       [0.14812547],\n",
              "       [0.15308621],\n",
              "       [0.15241071],\n",
              "       [0.15055307],\n",
              "       [0.14924428],\n",
              "       [0.13607194],\n",
              "       [0.12551718],\n",
              "       [0.13906949],\n",
              "       [0.14911762],\n",
              "       [0.14890653],\n",
              "       [0.15401503],\n",
              "       [0.16115005],\n",
              "       [0.16583636],\n",
              "       [0.17618002],\n",
              "       [0.17060711],\n",
              "       [0.14725998],\n",
              "       [0.14700667],\n",
              "       [0.14422021],\n",
              "       [0.13691632],\n",
              "       [0.13949168],\n",
              "       [0.13784514],\n",
              "       [0.13522756],\n",
              "       [0.13071012],\n",
              "       [0.11863548],\n",
              "       [0.10259225],\n",
              "       [0.1058009 ],\n",
              "       [0.10466098],\n",
              "       [0.10630752],\n",
              "       [0.12403952],\n",
              "       [0.09773706],\n",
              "       [0.10512539],\n",
              "       [0.10474542],\n",
              "       [0.10816516],\n",
              "       [0.11323144],\n",
              "       [0.11044499],\n",
              "       [0.10415435],\n",
              "       [0.09419066],\n",
              "       [0.06510175],\n",
              "       [0.05395592],\n",
              "       [0.0565735 ],\n",
              "       [0.08169383],\n",
              "       [0.09533058],\n",
              "       [0.09689268],\n",
              "       [0.09465507],\n",
              "       [0.07337668],\n",
              "       [0.09288187],\n",
              "       [0.08456472],\n",
              "       [0.07992063],\n",
              "       [0.09275521],\n",
              "       [0.0836359 ],\n",
              "       [0.09385291],\n",
              "       [0.10077683],\n",
              "       [0.10542092],\n",
              "       [0.10951617],\n",
              "       [0.11006502],\n",
              "       [0.09955248],\n",
              "       [0.09756818],\n",
              "       [0.10499873],\n",
              "       [0.09735709],\n",
              "       [0.10124124],\n",
              "       [0.10411213],\n",
              "       [0.10288778],\n",
              "       [0.09330406],\n",
              "       [0.07903403],\n",
              "       [0.08426919],\n",
              "       [0.08122942],\n",
              "       [0.08460694],\n",
              "       [0.0862957 ],\n",
              "       [0.08853331],\n",
              "       [0.0862957 ],\n",
              "       [0.08089167],\n",
              "       [0.09195305],\n",
              "       [0.08975766],\n",
              "       [0.09055982],\n",
              "       [0.08388922],\n",
              "       [0.09085536],\n",
              "       [0.0873934 ],\n",
              "       [0.09030651],\n",
              "       [0.09891919],\n",
              "       [0.09887697],\n",
              "       [0.10622309],\n",
              "       [0.1213375 ],\n",
              "       [0.10529427],\n",
              "       [0.10221228],\n",
              "       [0.12213966],\n",
              "       [0.12745926],\n",
              "       [0.1231107 ],\n",
              "       [0.1302035 ],\n",
              "       [0.13607194],\n",
              "       [0.13366546],\n",
              "       [0.1291058 ],\n",
              "       [0.12969687],\n",
              "       [0.12762813],\n",
              "       [0.1115849 ],\n",
              "       [0.10879845],\n",
              "       [0.1071519 ],\n",
              "       [0.09288187],\n",
              "       [0.10062906],\n",
              "       [0.09858144],\n",
              "       [0.11378029],\n",
              "       [0.12007093],\n",
              "       [0.12226632],\n",
              "       [0.11572237],\n",
              "       [0.12049312],\n",
              "       [0.1169045 ],\n",
              "       [0.11597568],\n",
              "       [0.11804441],\n",
              "       [0.11399139],\n",
              "       [0.10951617],\n",
              "       [0.10495651],\n",
              "       [0.1211264 ],\n",
              "       [0.11795998],\n",
              "       [0.11774888],\n",
              "       [0.10672971],\n",
              "       [0.10905176],\n",
              "       [0.09642827],\n",
              "       [0.09347294],\n",
              "       [0.08507135],\n",
              "       [0.08865997],\n",
              "       [0.07869628],\n",
              "       [0.06624166],\n",
              "       [0.07173014],\n",
              "       [0.07130795],\n",
              "       [0.07713417],\n",
              "       [0.07468547],\n",
              "       [0.06957697],\n",
              "       [0.07768302],\n",
              "       [0.07168792],\n",
              "       [0.0629908 ],\n",
              "       [0.06337077],\n",
              "       [0.05222494],\n",
              "       [0.04373892],\n",
              "       [0.02579583],\n",
              "       [0.027949  ],\n",
              "       [0.03457739],\n",
              "       [0.04061471],\n",
              "       [0.02976442],\n",
              "       [0.03875707],\n",
              "       [0.02866672],\n",
              "       [0.02668243],\n",
              "       [0.02723128],\n",
              "       [0.02516254],\n",
              "       [0.04677869],\n",
              "       [0.03841932],\n",
              "       [0.04074137],\n",
              "       [0.01300346],\n",
              "       [0.01583214],\n",
              "       [0.02955332],\n",
              "       [0.02571139],\n",
              "       [0.01747868],\n",
              "       [0.02537364],\n",
              "       [0.02642911],\n",
              "       [0.0155366 ],\n",
              "       [0.01971629],\n",
              "       [0.01963185],\n",
              "       [0.01659208],\n",
              "       [0.01418559],\n",
              "       [0.01540995],\n",
              "       [0.02659799],\n",
              "       [0.03284641],\n",
              "       [0.02499367],\n",
              "       [0.02406485],\n",
              "       [0.02761125],\n",
              "       [0.01836528],\n",
              "       [0.02431816],\n",
              "       [0.02710462],\n",
              "       [0.0277379 ],\n",
              "       [0.02680909],\n",
              "       [0.04302119],\n",
              "       [0.04395001],\n",
              "       [0.04711644],\n",
              "       [0.05349151],\n",
              "       [0.04867854],\n",
              "       [0.04513215],\n",
              "       [0.04551212],\n",
              "       [0.04572321],\n",
              "       [0.05032509],\n",
              "       [0.05142278],\n",
              "       [0.0601199 ],\n",
              "       [0.06598835],\n",
              "       [0.06527062],\n",
              "       [0.06577725],\n",
              "       [0.06573503],\n",
              "       [0.06915477],\n",
              "       [0.06666385],\n",
              "       [0.06472178],\n",
              "       [0.06269526],\n",
              "       [0.0732078 ],\n",
              "       [0.08114498],\n",
              "       [0.0787385 ],\n",
              "       [0.0829604 ],\n",
              "       [0.08773115],\n",
              "       [0.08220046],\n",
              "       [0.08705564],\n",
              "       [0.07683864],\n",
              "       [0.07734527],\n",
              "       [0.07886515],\n",
              "       [0.08486026],\n",
              "       [0.0916153 ],\n",
              "       [0.09186861],\n",
              "       [0.08236933],\n",
              "       [0.07236342],\n",
              "       [0.06995694],\n",
              "       [0.07088576],\n",
              "       [0.06598835],\n",
              "       [0.064764  ],\n",
              "       [0.06223085],\n",
              "       [0.05914886],\n",
              "       [0.03157984],\n",
              "       [0.01895635],\n",
              "       [0.01435447],\n",
              "       [0.01393228],\n",
              "       [0.02043401],\n",
              "       [0.01625433],\n",
              "       [0.01224352],\n",
              "       [0.01004813],\n",
              "       [0.01034366],\n",
              "       [0.01300346],\n",
              "       [0.00916153],\n",
              "       [0.        ],\n",
              "       [0.00075994],\n",
              "       [0.01494554],\n",
              "       [0.013299  ],\n",
              "       [0.01781643],\n",
              "       [0.01629655],\n",
              "       [0.02060289],\n",
              "       [0.02571139],\n",
              "       [0.03191759],\n",
              "       [0.03917926],\n",
              "       [0.04251457],\n",
              "       [0.04226125],\n",
              "       [0.04019252],\n",
              "       [0.03428185],\n",
              "       [0.03115765],\n",
              "       [0.03200203],\n",
              "       [0.03499958],\n",
              "       [0.03668834],\n",
              "       [0.03630837],\n",
              "       [0.03930592],\n",
              "       [0.03584396],\n",
              "       [0.02955332],\n",
              "       [0.03005995],\n",
              "       [0.02870894],\n",
              "       [0.03043992],\n",
              "       [0.0210673 ],\n",
              "       [0.02009626],\n",
              "       [0.023516  ],\n",
              "       [0.02199612],\n",
              "       [0.02431816],\n",
              "       [0.01291902],\n",
              "       [0.00717724],\n",
              "       [0.01372119],\n",
              "       [0.01714093],\n",
              "       [0.02220721],\n",
              "       [0.02343156],\n",
              "       [0.01963185],\n",
              "       [0.02191168],\n",
              "       [0.02364266],\n",
              "       [0.02676687],\n",
              "       [0.02803344],\n",
              "       [0.02989107],\n",
              "       [0.02756903],\n",
              "       [0.03567508],\n",
              "       [0.03563286],\n",
              "       [0.04006586],\n",
              "       [0.04023474],\n",
              "       [0.04061471],\n",
              "       [0.0383771 ],\n",
              "       [0.03512623],\n",
              "       [0.02955332],\n",
              "       [0.02672465],\n",
              "       [0.0532382 ],\n",
              "       [0.05910665],\n",
              "       [0.0585578 ],\n",
              "       [0.0663261 ],\n",
              "       [0.05969771],\n",
              "       [0.0652284 ],\n",
              "       [0.06556616],\n",
              "       [0.07236342],\n",
              "       [0.07612092],\n",
              "       [0.07797855],\n",
              "       [0.07455881],\n",
              "       [0.07426328],\n",
              "       [0.07531875],\n",
              "       [0.08080723],\n",
              "       [0.08038504],\n",
              "       [0.07970953],\n",
              "       [0.07911847],\n",
              "       [0.0803006 ],\n",
              "       [0.07671198],\n",
              "       [0.07814743],\n",
              "       [0.07468547],\n",
              "       [0.07274339],\n",
              "       [0.07008359],\n",
              "       [0.06957697],\n",
              "       [0.066115  ],\n",
              "       [0.06653719],\n",
              "       [0.06919699],\n",
              "       [0.0734189 ],\n",
              "       [0.07329224],\n",
              "       [0.0760787 ],\n",
              "       [0.06408849],\n",
              "       [0.05399814],\n",
              "       [0.06375074],\n",
              "       [0.07434772],\n",
              "       [0.09047539],\n",
              "       [0.10651862],\n",
              "       [0.10377438],\n",
              "       [0.09811703],\n",
              "       [0.09807481],\n",
              "       [0.09799037],\n",
              "       [0.10250781],\n",
              "       [0.09444398],\n",
              "       [0.0951617 ],\n",
              "       [0.0960483 ],\n",
              "       [0.09967914],\n",
              "       [0.09220637],\n",
              "       [0.09587942],\n",
              "       [0.09364181],\n",
              "       [0.09566833],\n",
              "       [0.09587942],\n",
              "       [0.09942582],\n",
              "       [0.10014354],\n",
              "       [0.10854513],\n",
              "       [0.10960061],\n",
              "       [0.11399139],\n",
              "       [0.1124715 ],\n",
              "       [0.11521574],\n",
              "       [0.11487799],\n",
              "       [0.11454023],\n",
              "       [0.11306257],\n",
              "       [0.11280925],\n",
              "       [0.11086718],\n",
              "       [0.11530018],\n",
              "       [0.11783332],\n",
              "       [0.10660306],\n",
              "       [0.10191674],\n",
              "       [0.0987081 ],\n",
              "       [0.09794816],\n",
              "       [0.08929325],\n",
              "       [0.08971544],\n",
              "       [0.08228489],\n",
              "       [0.07810521],\n",
              "       [0.0847336 ],\n",
              "       [0.08747784],\n",
              "       [0.08671789],\n",
              "       [0.07367221],\n",
              "       [0.07637423],\n",
              "       [0.06489065],\n",
              "       [0.07080132],\n",
              "       [0.0829604 ],\n",
              "       [0.08279152],\n",
              "       [0.08325593],\n",
              "       [0.09030651],\n",
              "       [0.09060204],\n",
              "       [0.08819556],\n",
              "       [0.09055982],\n",
              "       [0.08963101],\n",
              "       [0.0891666 ],\n",
              "       [0.08519801],\n",
              "       [0.08084945],\n",
              "       [0.08258043],\n",
              "       [0.07924512],\n",
              "       [0.08279152],\n",
              "       [0.08735118],\n",
              "       [0.09195305],\n",
              "       [0.09967914],\n",
              "       [0.0969349 ],\n",
              "       [0.1049143 ],\n",
              "       [0.1049143 ],\n",
              "       [0.10757409],\n",
              "       [0.10820738],\n",
              "       [0.11103606],\n",
              "       [0.11234485],\n",
              "       [0.11280925],\n",
              "       [0.10955839],\n",
              "       [0.11052943],\n",
              "       [0.11365364],\n",
              "       [0.11154268],\n",
              "       [0.11141603],\n",
              "       [0.10757409],\n",
              "       [0.10896732],\n",
              "       [0.10841848],\n",
              "       [0.1109094 ],\n",
              "       [0.11639787],\n",
              "       [0.12095753],\n",
              "       [0.12146416],\n",
              "       [0.12416617],\n",
              "       [0.12205522],\n",
              "       [0.12116862],\n",
              "       [0.12522165],\n",
              "       [0.12517943],\n",
              "       [0.12429283],\n",
              "       [0.12522165],\n",
              "       [0.1255594 ],\n",
              "       [0.12509499],\n",
              "       [0.13315883],\n",
              "       [0.13341214],\n",
              "       [0.13345436],\n",
              "       [0.13210335],\n",
              "       [0.13092122],\n",
              "       [0.1621633 ],\n",
              "       [0.16123448],\n",
              "       [0.16355653],\n",
              "       [0.16866503],\n",
              "       [0.17390019],\n",
              "       [0.17605336],\n",
              "       [0.17765769],\n",
              "       [0.17639112],\n",
              "       [0.18133074],\n",
              "       [0.18863464],\n",
              "       [0.19070337],\n",
              "       [0.19000676],\n",
              "       [0.19158997],\n",
              "       [0.19572743],\n",
              "       [0.19745841],\n",
              "       [0.19500971],\n",
              "       [0.19555856],\n",
              "       [0.19669847],\n",
              "       [0.19695179],\n",
              "       [0.20877311],\n",
              "       [0.20526894],\n",
              "       [0.2087309 ],\n",
              "       [0.20687326],\n",
              "       [0.2076332 ],\n",
              "       [0.20543781],\n",
              "       [0.2040868 ],\n",
              "       [0.20602888],\n",
              "       [0.20628219],\n",
              "       [0.20539559],\n",
              "       [0.21160179],\n",
              "       [0.21257283],\n",
              "       [0.2096175 ],\n",
              "       [0.21582369],\n",
              "       [0.20898421],\n",
              "       [0.21565482],\n",
              "       [0.21354387],\n",
              "       [0.21236173],\n",
              "       [0.21337499],\n",
              "       [0.22570295],\n",
              "       [0.22705396],\n",
              "       [0.22625179],\n",
              "       [0.22511188],\n",
              "       [0.22528076],\n",
              "       [0.22979819],\n",
              "       [0.22663177],\n",
              "       [0.22511188],\n",
              "       [0.22376087],\n",
              "       [0.22304315],\n",
              "       [0.21654142],\n",
              "       [0.21725914],\n",
              "       [0.21409271],\n",
              "       [0.2173858 ],\n",
              "       [0.214726  ],\n",
              "       [0.21253061],\n",
              "       [0.21996116],\n",
              "       [0.21924343],\n",
              "       [0.22502744],\n",
              "       [0.22878494],\n",
              "       [0.22519632],\n",
              "       [0.22566073],\n",
              "       [0.22506966],\n",
              "       [0.23743984],\n",
              "       [0.24136621],\n",
              "       [0.23946635],\n",
              "       [0.23722874],\n",
              "       [0.24748797],\n",
              "       [0.26458668],\n",
              "       [0.26872414],\n",
              "       [0.26564215],\n",
              "       [0.26855526],\n",
              "       [0.27763236],\n",
              "       [0.2759436 ],\n",
              "       [0.27497256],\n",
              "       [0.25293422],\n",
              "       [0.26260238],\n",
              "       [0.26479777],\n",
              "       [0.26872414],\n",
              "       [0.26792198],\n",
              "       [0.2659799 ],\n",
              "       [0.26821751],\n",
              "       [0.26711982],\n",
              "       [0.26737313],\n",
              "       [0.2635312 ],\n",
              "       [0.2653044 ],\n",
              "       [0.27488812],\n",
              "       [0.26847083],\n",
              "       [0.27066622],\n",
              "       [0.27455037],\n",
              "       [0.27294604],\n",
              "       [0.24757241],\n",
              "       [0.23254243],\n",
              "       [0.23748206],\n",
              "       [0.23144474],\n",
              "       [0.22777168],\n",
              "       [0.21924343],\n",
              "       [0.23642658],\n",
              "       [0.23081145],\n",
              "       [0.23444229],\n",
              "       [0.23342903],\n",
              "       [0.23617327],\n",
              "       [0.23423119],\n",
              "       [0.22540741],\n",
              "       [0.23427341],\n",
              "       [0.22519632],\n",
              "       [0.22663177],\n",
              "       [0.22443638],\n",
              "       [0.2269273 ],\n",
              "       [0.22118551],\n",
              "       [0.22730727],\n",
              "       [0.23102254],\n",
              "       [0.23300684],\n",
              "       [0.23389344],\n",
              "       [0.2424639 ],\n",
              "       [0.24782572],\n",
              "       [0.25002111],\n",
              "       [0.2522165 ],\n",
              "       [0.25618509],\n",
              "       [0.25331419],\n",
              "       [0.25301866],\n",
              "       [0.26070252],\n",
              "       [0.26344676],\n",
              "       [0.26648653],\n",
              "       [0.25424301],\n",
              "       [0.2497678 ],\n",
              "       [0.24651693],\n",
              "       [0.25208984],\n",
              "       [0.28202314],\n",
              "       [0.27539475],\n",
              "       [0.27885671],\n",
              "       [0.28907371],\n",
              "       [0.29443553],\n",
              "       [0.298573  ],\n",
              "       [0.27433927],\n",
              "       [0.28345858],\n",
              "       [0.29346449],\n",
              "       [0.30085282],\n",
              "       [0.29810859],\n",
              "       [0.28506291],\n",
              "       [0.28354302],\n",
              "       [0.28231867],\n",
              "       [0.29316896],\n",
              "       [0.29401334],\n",
              "       [0.29101579],\n",
              "       [0.29350671],\n",
              "       [0.30030398],\n",
              "       [0.30638352],\n",
              "       [0.30824116],\n",
              "       [0.31098539],\n",
              "       [0.31119649],\n",
              "       [0.30287934],\n",
              "       [0.30216161],\n",
              "       [0.29941738],\n",
              "       [0.28831377],\n",
              "       [0.30043063],\n",
              "       [0.29772862],\n",
              "       [0.29262011],\n",
              "       [0.28683611],\n",
              "       [0.29359115],\n",
              "       [0.28848265],\n",
              "       [0.28873596],\n",
              "       [0.2775057 ],\n",
              "       [0.266191  ],\n",
              "       [0.25985814],\n",
              "       [0.25420079],\n",
              "       [0.26513552],\n",
              "       [0.2697374 ],\n",
              "       [0.26572659],\n",
              "       [0.26927299],\n",
              "       [0.2679642 ],\n",
              "       [0.27079287],\n",
              "       [0.26657097],\n",
              "       [0.27463481],\n",
              "       [0.27425483],\n",
              "       [0.27653466],\n",
              "       [0.27678798],\n",
              "       [0.27953221],\n",
              "       [0.27721017],\n",
              "       [0.28138985],\n",
              "       [0.29359115],\n",
              "       [0.29608207],\n",
              "       [0.29308452],\n",
              "       [0.27712573],\n",
              "       [0.27826564],\n",
              "       [0.27792789],\n",
              "       [0.28185426],\n",
              "       [0.27894115],\n",
              "       [0.28316305],\n",
              "       [0.30697458],\n",
              "       [0.32246897],\n",
              "       [0.33226378],\n",
              "       [0.32318669],\n",
              "       [0.32833741],\n",
              "       [0.34687157],\n",
              "       [0.3542599 ],\n",
              "       [0.35662417],\n",
              "       [0.36266149],\n",
              "       [0.3611416 ],\n",
              "       [0.3560331 ],\n",
              "       [0.35307777],\n",
              "       [0.34197416],\n",
              "       [0.33243266],\n",
              "       [0.34096091],\n",
              "       [0.3369501 ],\n",
              "       [0.33623237],\n",
              "       [0.34957359],\n",
              "       [0.35725745],\n",
              "       [0.35729967],\n",
              "       [0.3535844 ],\n",
              "       [0.34927805],\n",
              "       [0.33412142],\n",
              "       [0.34412733],\n",
              "       [0.34074981],\n",
              "       [0.33547243],\n",
              "       [0.33479693],\n",
              "       [0.33213713],\n",
              "       [0.33344592],\n",
              "       [0.33365701],\n",
              "       [0.34758929],\n",
              "       [0.34349405],\n",
              "       [0.34590053],\n",
              "       [0.34568944],\n",
              "       [0.35307777],\n",
              "       [0.36342143],\n",
              "       [0.35548425],\n",
              "       [0.35468209],\n",
              "       [0.35746855],\n",
              "       [0.35746855],\n",
              "       [0.3387233 ],\n",
              "       [0.33884995],\n",
              "       [0.34087647],\n",
              "       [0.33306595],\n",
              "       [0.34585831],\n",
              "       [0.34573166],\n",
              "       [0.34910918],\n",
              "       [0.35742633],\n",
              "       [0.35468209],\n",
              "       [0.35459765],\n",
              "       [0.35442878],\n",
              "       [0.35860846],\n",
              "       [0.36625011],\n",
              "       [0.36245039],\n",
              "       [0.37473613],\n",
              "       [0.37541164],\n",
              "       [0.37203411],\n",
              "       [0.36587013],\n",
              "       [0.36603901],\n",
              "       [0.35413324],\n",
              "       [0.34100312],\n",
              "       [0.34269189],\n",
              "       [0.32770413],\n",
              "       [0.32352444],\n",
              "       [0.32546652],\n",
              "       [0.32694419],\n",
              "       [0.29620873],\n",
              "       [0.2792789 ],\n",
              "       [0.30689015],\n",
              "       [0.2921557 ],\n",
              "       [0.27362155],\n",
              "       [0.27894115],\n",
              "       [0.30553914],\n",
              "       [0.31242084],\n",
              "       [0.32521321],\n",
              "       [0.3489403 ],\n",
              "       [0.34657604],\n",
              "       [0.34412733],\n",
              "       [0.34083425],\n",
              "       [0.34687157],\n",
              "       [0.35953728],\n",
              "       [0.37418728],\n",
              "       [0.37173858],\n",
              "       [0.37059867],\n",
              "       [0.35742633],\n",
              "       [0.36253483],\n",
              "       [0.36511019],\n",
              "       [0.36447691],\n",
              "       [0.35755298],\n",
              "       [0.36561682],\n",
              "       [0.37845141],\n",
              "       [0.38579752],\n",
              "       [0.37840919],\n",
              "       [0.37194967],\n",
              "       [0.37283627],\n",
              "       [0.37017648],\n",
              "       [0.3586929 ],\n",
              "       [0.35843958],\n",
              "       [0.34167863],\n",
              "       [0.33146162],\n",
              "       [0.31495398],\n",
              "       [0.34801148],\n",
              "       [0.32930845],\n",
              "       [0.32145571],\n",
              "       [0.32694419],\n",
              "       [0.32230009],\n",
              "       [0.32951955],\n",
              "       [0.34311408],\n",
              "       [0.34813814],\n",
              "       [0.32947733],\n",
              "       [0.33652791],\n",
              "       [0.350038  ],\n",
              "       [0.34661826],\n",
              "       [0.35379549],\n",
              "       [0.35628641],\n",
              "       [0.36088829],\n",
              "       [0.37110529],\n",
              "       [0.36941653],\n",
              "       [0.34813814],\n",
              "       [0.31824707],\n",
              "       [0.31622055],\n",
              "       [0.30651017],\n",
              "       [0.30950773],\n",
              "       [0.31191421],\n",
              "       [0.30389259],\n",
              "       [0.31630499],\n",
              "       [0.3325171 ],\n",
              "       [0.36405472],\n",
              "       [0.36540572],\n",
              "       [0.39470573],\n",
              "       [0.40032086],\n",
              "       [0.40407836],\n",
              "       [0.40960905],\n",
              "       [0.42092375],\n",
              "       [0.41480199],\n",
              "       [0.41294436],\n",
              "       [0.4057249 ],\n",
              "       [0.41307101],\n",
              "       [0.40804695],\n",
              "       [0.40517605],\n",
              "       [0.41074897],\n",
              "       [0.40876467],\n",
              "       [0.41383095],\n",
              "       [0.41294436],\n",
              "       [0.41475977],\n",
              "       [0.41188888],\n",
              "       [0.41020012],\n",
              "       [0.40754032],\n",
              "       [0.42176813],\n",
              "       [0.42848096],\n",
              "       [0.43472938],\n",
              "       [0.43755805],\n",
              "       [0.43536266],\n",
              "       [0.42793211],\n",
              "       [0.42594782],\n",
              "       [0.43038082],\n",
              "       [0.42371021],\n",
              "       [0.4241324 ],\n",
              "       [0.41585747],\n",
              "       [0.41543528],\n",
              "       [0.40255847],\n",
              "       [0.40597821],\n",
              "       [0.40158744],\n",
              "       [0.39930761],\n",
              "       [0.38769737],\n",
              "       [0.39723888],\n",
              "       [0.39609896],\n",
              "       [0.40175631],\n",
              "       [0.40010977],\n",
              "       [0.40884911],\n",
              "       [0.3950857 ],\n",
              "       [0.40133412],\n",
              "       [0.41218441],\n",
              "       [0.42320358],\n",
              "       [0.42223254],\n",
              "       [0.41180444],\n",
              "       [0.42510344],\n",
              "       [0.42637001],\n",
              "       [0.42459681],\n",
              "       [0.42687664],\n",
              "       [0.42244364],\n",
              "       [0.42869205],\n",
              "       [0.42683442],\n",
              "       [0.42755214],\n",
              "       [0.43342059],\n",
              "       [0.44110445],\n",
              "       [0.43852909],\n",
              "       [0.42489234],\n",
              "       [0.42037491],\n",
              "       [0.42197923],\n",
              "       [0.46930676],\n",
              "       [0.49417377],\n",
              "       [0.49670692],\n",
              "       [0.50126657],\n",
              "       [0.49299164],\n",
              "       [0.49358271],\n",
              "       [0.50046441],\n",
              "       [0.49476484],\n",
              "       [0.50042219],\n",
              "       [0.50413747],\n",
              "       [0.5062062 ],\n",
              "       [0.51920966],\n",
              "       [0.53719497],\n",
              "       [0.52824453],\n",
              "       [0.52647133]])"
            ]
          },
          "metadata": {
            "tags": []
          },
          "execution_count": 81
        }
      ]
    },
    {
      "cell_type": "code",
      "metadata": {
        "id": "1byo0XT4mr6h"
      },
      "source": [
        "import numpy\n",
        "# convert an array of values into a dataset matrix\n",
        "def create_dataset(dataset, time_step=1):\n",
        "\tdataX, dataY = [], []\n",
        "\tfor i in range(len(dataset)-time_step-1):\n",
        "\t\ta = dataset[i:(i+time_step), 0]   ###i=0, 0,1,2,3-----99   100 \n",
        "\t\tdataX.append(a)\n",
        "\t\tdataY.append(dataset[i + time_step, 0])\n",
        "\treturn numpy.array(dataX), numpy.array(dataY)"
      ],
      "execution_count": 82,
      "outputs": []
    },
    {
      "cell_type": "code",
      "metadata": {
        "id": "0pEl4rUgmr6h"
      },
      "source": [
        "# reshape into X=t,t+1,t+2,t+3 and Y=t+4\n",
        "time_step = 100\n",
        "X_train, y_train = create_dataset(train_data, time_step)\n",
        "X_test, ytest = create_dataset(test_data, time_step)"
      ],
      "execution_count": 83,
      "outputs": []
    },
    {
      "cell_type": "code",
      "metadata": {
        "colab": {
          "base_uri": "https://localhost:8080/"
        },
        "id": "Ow96cWqSmr6h",
        "outputId": "3ebca8ba-bc88-429f-8fc8-112fce9e33fc"
      },
      "source": [
        "print(X_train.shape), print(y_train.shape)"
      ],
      "execution_count": 84,
      "outputs": [
        {
          "output_type": "stream",
          "text": [
            "(716, 100)\n",
            "(716,)\n"
          ],
          "name": "stdout"
        },
        {
          "output_type": "execute_result",
          "data": {
            "text/plain": [
              "(None, None)"
            ]
          },
          "metadata": {
            "tags": []
          },
          "execution_count": 84
        }
      ]
    },
    {
      "cell_type": "code",
      "metadata": {
        "colab": {
          "base_uri": "https://localhost:8080/"
        },
        "id": "lUT_4gjtmr6i",
        "outputId": "25014c51-2253-4d17-dc5f-21ecec3a8850"
      },
      "source": [
        "print(X_test.shape), print(ytest.shape)"
      ],
      "execution_count": 85,
      "outputs": [
        {
          "output_type": "stream",
          "text": [
            "(340, 100)\n",
            "(340,)\n"
          ],
          "name": "stdout"
        },
        {
          "output_type": "execute_result",
          "data": {
            "text/plain": [
              "(None, None)"
            ]
          },
          "metadata": {
            "tags": []
          },
          "execution_count": 85
        }
      ]
    },
    {
      "cell_type": "code",
      "metadata": {
        "id": "rG9UxZdvmr6i"
      },
      "source": [
        "# reshape input to be [samples, time steps, features] which is required for LSTM\n",
        "X_train =X_train.reshape(X_train.shape[0],X_train.shape[1] , 1)\n",
        "X_test = X_test.reshape(X_test.shape[0],X_test.shape[1] , 1)"
      ],
      "execution_count": 86,
      "outputs": []
    },
    {
      "cell_type": "code",
      "metadata": {
        "id": "oxbNxSJwmr6i"
      },
      "source": [
        "### Create the Stacked LSTM model\n",
        "from tensorflow.keras.models import Sequential\n",
        "from tensorflow.keras.layers import Dense\n",
        "from tensorflow.keras.layers import LSTM"
      ],
      "execution_count": 87,
      "outputs": []
    },
    {
      "cell_type": "code",
      "metadata": {
        "id": "XDUHl8Drmr6j"
      },
      "source": [
        "model=Sequential()\n",
        "model.add(LSTM(50,return_sequences=True,input_shape=(100,1)))\n",
        "model.add(LSTM(50,return_sequences=True))\n",
        "model.add(LSTM(50))\n",
        "model.add(Dense(1))\n",
        "model.compile(loss='mean_squared_error',optimizer='adam')\n"
      ],
      "execution_count": 88,
      "outputs": []
    },
    {
      "cell_type": "code",
      "metadata": {
        "colab": {
          "base_uri": "https://localhost:8080/"
        },
        "id": "xMf3h1Btmr6j",
        "outputId": "e58f2a55-220b-445c-aca0-129c8885ca3d"
      },
      "source": [
        "model.summary()"
      ],
      "execution_count": 89,
      "outputs": [
        {
          "output_type": "stream",
          "text": [
            "Model: \"sequential_1\"\n",
            "_________________________________________________________________\n",
            "Layer (type)                 Output Shape              Param #   \n",
            "=================================================================\n",
            "lstm_3 (LSTM)                (None, 100, 50)           10400     \n",
            "_________________________________________________________________\n",
            "lstm_4 (LSTM)                (None, 100, 50)           20200     \n",
            "_________________________________________________________________\n",
            "lstm_5 (LSTM)                (None, 50)                20200     \n",
            "_________________________________________________________________\n",
            "dense_1 (Dense)              (None, 1)                 51        \n",
            "=================================================================\n",
            "Total params: 50,851\n",
            "Trainable params: 50,851\n",
            "Non-trainable params: 0\n",
            "_________________________________________________________________\n"
          ],
          "name": "stdout"
        }
      ]
    },
    {
      "cell_type": "code",
      "metadata": {
        "colab": {
          "base_uri": "https://localhost:8080/"
        },
        "id": "KaY6d0mGmr6j",
        "outputId": "edd533b8-e332-4820-87ac-24e6ca1ef237"
      },
      "source": [
        "model.summary()"
      ],
      "execution_count": 90,
      "outputs": [
        {
          "output_type": "stream",
          "text": [
            "Model: \"sequential_1\"\n",
            "_________________________________________________________________\n",
            "Layer (type)                 Output Shape              Param #   \n",
            "=================================================================\n",
            "lstm_3 (LSTM)                (None, 100, 50)           10400     \n",
            "_________________________________________________________________\n",
            "lstm_4 (LSTM)                (None, 100, 50)           20200     \n",
            "_________________________________________________________________\n",
            "lstm_5 (LSTM)                (None, 50)                20200     \n",
            "_________________________________________________________________\n",
            "dense_1 (Dense)              (None, 1)                 51        \n",
            "=================================================================\n",
            "Total params: 50,851\n",
            "Trainable params: 50,851\n",
            "Non-trainable params: 0\n",
            "_________________________________________________________________\n"
          ],
          "name": "stdout"
        }
      ]
    },
    {
      "cell_type": "code",
      "metadata": {
        "colab": {
          "base_uri": "https://localhost:8080/"
        },
        "id": "4EETZFzLmr6k",
        "outputId": "2c124746-f1cd-491f-f414-454ea5aeb918"
      },
      "source": [
        "model.fit(X_train,y_train,validation_data=(X_test,ytest),epochs=100,batch_size=64,verbose=1)"
      ],
      "execution_count": 91,
      "outputs": [
        {
          "output_type": "stream",
          "text": [
            "Epoch 1/100\n",
            "12/12 [==============================] - 8s 289ms/step - loss: 0.0167 - val_loss: 0.0537\n",
            "Epoch 2/100\n",
            "12/12 [==============================] - 2s 191ms/step - loss: 0.0029 - val_loss: 0.0040\n",
            "Epoch 3/100\n",
            "12/12 [==============================] - 2s 187ms/step - loss: 8.8886e-04 - val_loss: 0.0050\n",
            "Epoch 4/100\n",
            "12/12 [==============================] - 2s 189ms/step - loss: 7.0461e-04 - val_loss: 0.0038\n",
            "Epoch 5/100\n",
            "12/12 [==============================] - 2s 194ms/step - loss: 7.1120e-04 - val_loss: 0.0039\n",
            "Epoch 6/100\n",
            "12/12 [==============================] - 2s 188ms/step - loss: 6.1953e-04 - val_loss: 0.0039\n",
            "Epoch 7/100\n",
            "12/12 [==============================] - 2s 190ms/step - loss: 6.4829e-04 - val_loss: 0.0036\n",
            "Epoch 8/100\n",
            "12/12 [==============================] - 2s 190ms/step - loss: 6.2652e-04 - val_loss: 0.0035\n",
            "Epoch 9/100\n",
            "12/12 [==============================] - 2s 194ms/step - loss: 6.5106e-04 - val_loss: 0.0035\n",
            "Epoch 10/100\n",
            "12/12 [==============================] - 2s 193ms/step - loss: 6.2503e-04 - val_loss: 0.0035\n",
            "Epoch 11/100\n",
            "12/12 [==============================] - 2s 193ms/step - loss: 6.2207e-04 - val_loss: 0.0034\n",
            "Epoch 12/100\n",
            "12/12 [==============================] - 2s 191ms/step - loss: 5.9218e-04 - val_loss: 0.0031\n",
            "Epoch 13/100\n",
            "12/12 [==============================] - 2s 191ms/step - loss: 5.6299e-04 - val_loss: 0.0031\n",
            "Epoch 14/100\n",
            "12/12 [==============================] - 2s 195ms/step - loss: 5.4526e-04 - val_loss: 0.0032\n",
            "Epoch 15/100\n",
            "12/12 [==============================] - 2s 192ms/step - loss: 5.3266e-04 - val_loss: 0.0030\n",
            "Epoch 16/100\n",
            "12/12 [==============================] - 2s 191ms/step - loss: 5.3700e-04 - val_loss: 0.0028\n",
            "Epoch 17/100\n",
            "12/12 [==============================] - 2s 192ms/step - loss: 5.1947e-04 - val_loss: 0.0029\n",
            "Epoch 18/100\n",
            "12/12 [==============================] - 2s 192ms/step - loss: 5.2477e-04 - val_loss: 0.0030\n",
            "Epoch 19/100\n",
            "12/12 [==============================] - 2s 193ms/step - loss: 4.9800e-04 - val_loss: 0.0031\n",
            "Epoch 20/100\n",
            "12/12 [==============================] - 2s 192ms/step - loss: 5.2117e-04 - val_loss: 0.0025\n",
            "Epoch 21/100\n",
            "12/12 [==============================] - 2s 193ms/step - loss: 4.8337e-04 - val_loss: 0.0028\n",
            "Epoch 22/100\n",
            "12/12 [==============================] - 2s 192ms/step - loss: 5.1748e-04 - val_loss: 0.0026\n",
            "Epoch 23/100\n",
            "12/12 [==============================] - 2s 193ms/step - loss: 5.2085e-04 - val_loss: 0.0023\n",
            "Epoch 24/100\n",
            "12/12 [==============================] - 2s 191ms/step - loss: 4.4888e-04 - val_loss: 0.0022\n",
            "Epoch 25/100\n",
            "12/12 [==============================] - 2s 191ms/step - loss: 4.5557e-04 - val_loss: 0.0023\n",
            "Epoch 26/100\n",
            "12/12 [==============================] - 2s 190ms/step - loss: 5.1374e-04 - val_loss: 0.0022\n",
            "Epoch 27/100\n",
            "12/12 [==============================] - 2s 189ms/step - loss: 4.3999e-04 - val_loss: 0.0024\n",
            "Epoch 28/100\n",
            "12/12 [==============================] - 2s 192ms/step - loss: 4.2969e-04 - val_loss: 0.0020\n",
            "Epoch 29/100\n",
            "12/12 [==============================] - 2s 190ms/step - loss: 4.1924e-04 - val_loss: 0.0020\n",
            "Epoch 30/100\n",
            "12/12 [==============================] - 2s 190ms/step - loss: 4.1309e-04 - val_loss: 0.0019\n",
            "Epoch 31/100\n",
            "12/12 [==============================] - 2s 193ms/step - loss: 4.0990e-04 - val_loss: 0.0025\n",
            "Epoch 32/100\n",
            "12/12 [==============================] - 2s 192ms/step - loss: 4.2859e-04 - val_loss: 0.0020\n",
            "Epoch 33/100\n",
            "12/12 [==============================] - 2s 189ms/step - loss: 4.3696e-04 - val_loss: 0.0017\n",
            "Epoch 34/100\n",
            "12/12 [==============================] - 2s 191ms/step - loss: 3.8823e-04 - val_loss: 0.0017\n",
            "Epoch 35/100\n",
            "12/12 [==============================] - 2s 193ms/step - loss: 3.8209e-04 - val_loss: 0.0016\n",
            "Epoch 36/100\n",
            "12/12 [==============================] - 2s 190ms/step - loss: 3.9351e-04 - val_loss: 0.0023\n",
            "Epoch 37/100\n",
            "12/12 [==============================] - 2s 192ms/step - loss: 3.7916e-04 - val_loss: 0.0016\n",
            "Epoch 38/100\n",
            "12/12 [==============================] - 2s 196ms/step - loss: 3.5892e-04 - val_loss: 0.0017\n",
            "Epoch 39/100\n",
            "12/12 [==============================] - 2s 193ms/step - loss: 3.6904e-04 - val_loss: 0.0024\n",
            "Epoch 40/100\n",
            "12/12 [==============================] - 2s 195ms/step - loss: 3.9620e-04 - val_loss: 0.0037\n",
            "Epoch 41/100\n",
            "12/12 [==============================] - 2s 197ms/step - loss: 6.0235e-04 - val_loss: 0.0033\n",
            "Epoch 42/100\n",
            "12/12 [==============================] - 2s 197ms/step - loss: 4.1350e-04 - val_loss: 0.0016\n",
            "Epoch 43/100\n",
            "12/12 [==============================] - 2s 193ms/step - loss: 3.3745e-04 - val_loss: 0.0018\n",
            "Epoch 44/100\n",
            "12/12 [==============================] - 2s 192ms/step - loss: 3.3687e-04 - val_loss: 0.0015\n",
            "Epoch 45/100\n",
            "12/12 [==============================] - 2s 192ms/step - loss: 3.2899e-04 - val_loss: 0.0015\n",
            "Epoch 46/100\n",
            "12/12 [==============================] - 2s 194ms/step - loss: 3.3338e-04 - val_loss: 0.0015\n",
            "Epoch 47/100\n",
            "12/12 [==============================] - 2s 192ms/step - loss: 3.2131e-04 - val_loss: 0.0018\n",
            "Epoch 48/100\n",
            "12/12 [==============================] - 2s 194ms/step - loss: 3.2139e-04 - val_loss: 0.0014\n",
            "Epoch 49/100\n",
            "12/12 [==============================] - 2s 196ms/step - loss: 3.1103e-04 - val_loss: 0.0017\n",
            "Epoch 50/100\n",
            "12/12 [==============================] - 2s 194ms/step - loss: 3.1964e-04 - val_loss: 0.0016\n",
            "Epoch 51/100\n",
            "12/12 [==============================] - 2s 192ms/step - loss: 3.3902e-04 - val_loss: 0.0017\n",
            "Epoch 52/100\n",
            "12/12 [==============================] - 2s 193ms/step - loss: 3.1138e-04 - val_loss: 0.0014\n",
            "Epoch 53/100\n",
            "12/12 [==============================] - 2s 192ms/step - loss: 3.0254e-04 - val_loss: 0.0014\n",
            "Epoch 54/100\n",
            "12/12 [==============================] - 2s 194ms/step - loss: 2.9133e-04 - val_loss: 0.0014\n",
            "Epoch 55/100\n",
            "12/12 [==============================] - 2s 192ms/step - loss: 3.0415e-04 - val_loss: 0.0018\n",
            "Epoch 56/100\n",
            "12/12 [==============================] - 2s 191ms/step - loss: 2.9084e-04 - val_loss: 0.0015\n",
            "Epoch 57/100\n",
            "12/12 [==============================] - 2s 193ms/step - loss: 3.2760e-04 - val_loss: 0.0019\n",
            "Epoch 58/100\n",
            "12/12 [==============================] - 2s 191ms/step - loss: 3.3023e-04 - val_loss: 0.0017\n",
            "Epoch 59/100\n",
            "12/12 [==============================] - 2s 190ms/step - loss: 3.1014e-04 - val_loss: 0.0013\n",
            "Epoch 60/100\n",
            "12/12 [==============================] - 2s 192ms/step - loss: 2.7644e-04 - val_loss: 0.0016\n",
            "Epoch 61/100\n",
            "12/12 [==============================] - 2s 191ms/step - loss: 3.2974e-04 - val_loss: 0.0014\n",
            "Epoch 62/100\n",
            "12/12 [==============================] - 2s 191ms/step - loss: 2.6459e-04 - val_loss: 0.0014\n",
            "Epoch 63/100\n",
            "12/12 [==============================] - 2s 192ms/step - loss: 2.5785e-04 - val_loss: 0.0014\n",
            "Epoch 64/100\n",
            "12/12 [==============================] - 2s 191ms/step - loss: 2.8789e-04 - val_loss: 0.0016\n",
            "Epoch 65/100\n",
            "12/12 [==============================] - 2s 197ms/step - loss: 2.6899e-04 - val_loss: 0.0021\n",
            "Epoch 66/100\n",
            "12/12 [==============================] - 2s 195ms/step - loss: 3.1348e-04 - val_loss: 0.0021\n",
            "Epoch 67/100\n",
            "12/12 [==============================] - 2s 192ms/step - loss: 2.8621e-04 - val_loss: 0.0013\n",
            "Epoch 68/100\n",
            "12/12 [==============================] - 2s 190ms/step - loss: 2.6212e-04 - val_loss: 0.0012\n",
            "Epoch 69/100\n",
            "12/12 [==============================] - 2s 195ms/step - loss: 2.4166e-04 - val_loss: 0.0013\n",
            "Epoch 70/100\n",
            "12/12 [==============================] - 2s 192ms/step - loss: 2.3366e-04 - val_loss: 0.0012\n",
            "Epoch 71/100\n",
            "12/12 [==============================] - 2s 189ms/step - loss: 2.3139e-04 - val_loss: 0.0012\n",
            "Epoch 72/100\n",
            "12/12 [==============================] - 2s 193ms/step - loss: 2.2684e-04 - val_loss: 0.0012\n",
            "Epoch 73/100\n",
            "12/12 [==============================] - 2s 195ms/step - loss: 2.3943e-04 - val_loss: 0.0012\n",
            "Epoch 74/100\n",
            "12/12 [==============================] - 2s 194ms/step - loss: 2.2369e-04 - val_loss: 0.0015\n",
            "Epoch 75/100\n",
            "12/12 [==============================] - 2s 191ms/step - loss: 2.7763e-04 - val_loss: 0.0016\n",
            "Epoch 76/100\n",
            "12/12 [==============================] - 2s 195ms/step - loss: 2.3486e-04 - val_loss: 0.0012\n",
            "Epoch 77/100\n",
            "12/12 [==============================] - 2s 195ms/step - loss: 2.3528e-04 - val_loss: 0.0013\n",
            "Epoch 78/100\n",
            "12/12 [==============================] - 2s 194ms/step - loss: 2.3371e-04 - val_loss: 0.0013\n",
            "Epoch 79/100\n",
            "12/12 [==============================] - 2s 193ms/step - loss: 2.2496e-04 - val_loss: 0.0011\n",
            "Epoch 80/100\n",
            "12/12 [==============================] - 2s 195ms/step - loss: 2.1222e-04 - val_loss: 0.0011\n",
            "Epoch 81/100\n",
            "12/12 [==============================] - 2s 193ms/step - loss: 2.0962e-04 - val_loss: 0.0014\n",
            "Epoch 82/100\n",
            "12/12 [==============================] - 2s 193ms/step - loss: 2.1941e-04 - val_loss: 0.0011\n",
            "Epoch 83/100\n",
            "12/12 [==============================] - 2s 192ms/step - loss: 2.1291e-04 - val_loss: 0.0011\n",
            "Epoch 84/100\n",
            "12/12 [==============================] - 2s 193ms/step - loss: 1.8987e-04 - val_loss: 0.0011\n",
            "Epoch 85/100\n",
            "12/12 [==============================] - 2s 190ms/step - loss: 2.1375e-04 - val_loss: 0.0018\n",
            "Epoch 86/100\n",
            "12/12 [==============================] - 2s 193ms/step - loss: 2.5133e-04 - val_loss: 0.0014\n",
            "Epoch 87/100\n",
            "12/12 [==============================] - 2s 194ms/step - loss: 2.6036e-04 - val_loss: 0.0015\n",
            "Epoch 88/100\n",
            "12/12 [==============================] - 2s 191ms/step - loss: 2.2642e-04 - val_loss: 0.0012\n",
            "Epoch 89/100\n",
            "12/12 [==============================] - 2s 193ms/step - loss: 1.8775e-04 - val_loss: 0.0014\n",
            "Epoch 90/100\n",
            "12/12 [==============================] - 2s 195ms/step - loss: 2.0831e-04 - val_loss: 0.0011\n",
            "Epoch 91/100\n",
            "12/12 [==============================] - 2s 194ms/step - loss: 2.4777e-04 - val_loss: 0.0015\n",
            "Epoch 92/100\n",
            "12/12 [==============================] - 2s 193ms/step - loss: 2.2210e-04 - val_loss: 0.0010\n",
            "Epoch 93/100\n",
            "12/12 [==============================] - 2s 193ms/step - loss: 1.8496e-04 - val_loss: 9.9242e-04\n",
            "Epoch 94/100\n",
            "12/12 [==============================] - 2s 191ms/step - loss: 1.8216e-04 - val_loss: 0.0010\n",
            "Epoch 95/100\n",
            "12/12 [==============================] - 2s 194ms/step - loss: 1.7075e-04 - val_loss: 0.0011\n",
            "Epoch 96/100\n",
            "12/12 [==============================] - 2s 192ms/step - loss: 1.7198e-04 - val_loss: 0.0011\n",
            "Epoch 97/100\n",
            "12/12 [==============================] - 2s 190ms/step - loss: 2.3492e-04 - val_loss: 0.0015\n",
            "Epoch 98/100\n",
            "12/12 [==============================] - 2s 191ms/step - loss: 2.0471e-04 - val_loss: 0.0010\n",
            "Epoch 99/100\n",
            "12/12 [==============================] - 2s 192ms/step - loss: 1.6397e-04 - val_loss: 0.0010\n",
            "Epoch 100/100\n",
            "12/12 [==============================] - 2s 194ms/step - loss: 1.6839e-04 - val_loss: 0.0012\n"
          ],
          "name": "stdout"
        },
        {
          "output_type": "execute_result",
          "data": {
            "text/plain": [
              "<tensorflow.python.keras.callbacks.History at 0x7f01306fff50>"
            ]
          },
          "metadata": {
            "tags": []
          },
          "execution_count": 91
        }
      ]
    },
    {
      "cell_type": "code",
      "metadata": {
        "id": "oHU8CNmVmr6k"
      },
      "source": [
        "import tensorflow as tf"
      ],
      "execution_count": 92,
      "outputs": []
    },
    {
      "cell_type": "code",
      "metadata": {
        "colab": {
          "base_uri": "https://localhost:8080/",
          "height": 35
        },
        "id": "_UkMDO6Kmr6l",
        "outputId": "0c804f28-742c-4c34-981f-bd9cb773eb5a"
      },
      "source": [
        "tf.__version__"
      ],
      "execution_count": 93,
      "outputs": [
        {
          "output_type": "execute_result",
          "data": {
            "application/vnd.google.colaboratory.intrinsic+json": {
              "type": "string"
            },
            "text/plain": [
              "'2.5.0'"
            ]
          },
          "metadata": {
            "tags": []
          },
          "execution_count": 93
        }
      ]
    },
    {
      "cell_type": "code",
      "metadata": {
        "id": "3XCYEVO2mr6l"
      },
      "source": [
        "### Lets Do the prediction and check performance metrics\n",
        "train_predict=model.predict(X_train)\n",
        "test_predict=model.predict(X_test)"
      ],
      "execution_count": 94,
      "outputs": []
    },
    {
      "cell_type": "code",
      "metadata": {
        "id": "dsPG7STLmr6l"
      },
      "source": [
        "##Transformback to original form\n",
        "train_predict=scaler.inverse_transform(train_predict)\n",
        "test_predict=scaler.inverse_transform(test_predict)"
      ],
      "execution_count": 95,
      "outputs": []
    },
    {
      "cell_type": "code",
      "metadata": {
        "colab": {
          "base_uri": "https://localhost:8080/"
        },
        "id": "dJQ6Jakrmr6l",
        "outputId": "2b64ae6e-c47c-403e-d21b-e67b645b16a4"
      },
      "source": [
        "### Calculate RMSE performance metrics\n",
        "import math\n",
        "from sklearn.metrics import mean_squared_error\n",
        "math.sqrt(mean_squared_error(y_train,train_predict))"
      ],
      "execution_count": 96,
      "outputs": [
        {
          "output_type": "execute_result",
          "data": {
            "text/plain": [
              "143.0105893158148"
            ]
          },
          "metadata": {
            "tags": []
          },
          "execution_count": 96
        }
      ]
    },
    {
      "cell_type": "code",
      "metadata": {
        "colab": {
          "base_uri": "https://localhost:8080/"
        },
        "id": "fNdcTrd0mr6m",
        "outputId": "1018aa5a-97e5-4ad5-d3bd-3cd1e1612efa"
      },
      "source": [
        "### Test Data RMSE\n",
        "math.sqrt(mean_squared_error(ytest,test_predict))"
      ],
      "execution_count": 97,
      "outputs": [
        {
          "output_type": "execute_result",
          "data": {
            "text/plain": [
              "241.4188609639402"
            ]
          },
          "metadata": {
            "tags": []
          },
          "execution_count": 97
        }
      ]
    },
    {
      "cell_type": "code",
      "metadata": {
        "colab": {
          "base_uri": "https://localhost:8080/",
          "height": 265
        },
        "id": "BVJVlQ8amr6m",
        "outputId": "621fb9fc-4b92-4bc4-8289-869c70ac9e65"
      },
      "source": [
        "### Plotting \n",
        "# shift train predictions for plotting\n",
        "look_back=100\n",
        "trainPredictPlot = numpy.empty_like(df1)\n",
        "trainPredictPlot[:, :] = np.nan\n",
        "trainPredictPlot[look_back:len(train_predict)+look_back, :] = train_predict\n",
        "# shift test predictions for plotting\n",
        "testPredictPlot = numpy.empty_like(df1)\n",
        "testPredictPlot[:, :] = numpy.nan\n",
        "testPredictPlot[len(train_predict)+(look_back*2)+1:len(df1)-1, :] = test_predict\n",
        "# plot baseline and predictions\n",
        "plt.plot(scaler.inverse_transform(df1))\n",
        "plt.plot(trainPredictPlot)\n",
        "plt.plot(testPredictPlot)\n",
        "plt.show()"
      ],
      "execution_count": 98,
      "outputs": [
        {
          "output_type": "display_data",
          "data": {
            "image/png": "[encoded data removed]",
            "text/plain": [
              "<Figure size 432x288 with 1 Axes>"
            ]
          },
          "metadata": {
            "tags": [],
            "needs_background": "light"
          }
        }
      ]
    },
    {
      "cell_type": "code",
      "metadata": {
        "colab": {
          "base_uri": "https://localhost:8080/"
        },
        "id": "ZQHYuja0mr6n",
        "outputId": "1a5ae6ab-3c8c-4b77-8bfe-203bda954be1"
      },
      "source": [
        "len(test_data)"
      ],
      "execution_count": 99,
      "outputs": [
        {
          "output_type": "execute_result",
          "data": {
            "text/plain": [
              "441"
            ]
          },
          "metadata": {
            "tags": []
          },
          "execution_count": 99
        }
      ]
    },
    {
      "cell_type": "code",
      "metadata": {
        "colab": {
          "base_uri": "https://localhost:8080/"
        },
        "id": "5vlXb4Scmr6n",
        "outputId": "fd26a377-0007-433e-9096-97fa0446f5d6"
      },
      "source": [
        "x_input=test_data[341:].reshape(1,-1)\n",
        "x_input.shape\n"
      ],
      "execution_count": 100,
      "outputs": [
        {
          "output_type": "execute_result",
          "data": {
            "text/plain": [
              "(1, 100)"
            ]
          },
          "metadata": {
            "tags": []
          },
          "execution_count": 100
        }
      ]
    },
    {
      "cell_type": "code",
      "metadata": {
        "id": "WsUmYMM0mr6o"
      },
      "source": [
        "temp_input=list(x_input)\n",
        "temp_input=temp_input[0].tolist()"
      ],
      "execution_count": 101,
      "outputs": []
    },
    {
      "cell_type": "code",
      "metadata": {
        "colab": {
          "base_uri": "https://localhost:8080/"
        },
        "id": "8fugv5aCmr6o",
        "outputId": "3fd14c0f-9613-499b-9ac7-8d3c1cbdce0f"
      },
      "source": [
        "temp_input"
      ],
      "execution_count": 102,
      "outputs": [
        {
          "output_type": "execute_result",
          "data": {
            "text/plain": [
              "[0.8583551465000423,\n",
              " 0.8866418981676942,\n",
              " 0.8743139407244789,\n",
              " 0.8843198513890065,\n",
              " 0.8783669678290975,\n",
              " 0.8986321033521913,\n",
              " 0.925821160179009,\n",
              " 0.9287764924427933,\n",
              " 0.9567677108840666,\n",
              " 0.9386979650426415,\n",
              " 0.933040614709111,\n",
              " 0.9495060373216249,\n",
              " 0.9642404796082076,\n",
              " 0.9551211686228154,\n",
              " 0.9598919192772104,\n",
              " 0.9663514312251966,\n",
              " 0.9624672802499368,\n",
              " 0.9229502659799038,\n",
              " 0.9598497002448705,\n",
              " 0.9879253567508233,\n",
              " 0.985941062230854,\n",
              " 0.9253145317909315,\n",
              " 0.9217259140420504,\n",
              " 0.964747107996285,\n",
              " 0.9757240564046274,\n",
              " 0.9915984125643842,\n",
              " 0.9697289538123788,\n",
              " 0.9761462467280253,\n",
              " 0.9679557544541082,\n",
              " 1.0000000000000002,\n",
              " 0.9901629654648318,\n",
              " 0.9905007177235499,\n",
              " 0.9653803934813816,\n",
              " 0.9848855864223593,\n",
              " 0.9708688676855528,\n",
              " 0.9402600692392133,\n",
              " 0.8774803681499621,\n",
              " 0.8348391454867856,\n",
              " 0.8541332432660644,\n",
              " 0.7733682344000676,\n",
              " 0.7726927298826314,\n",
              " 0.8801401671873683,\n",
              " 0.8400743054969182,\n",
              " 0.8967322468969012,\n",
              " 0.8552731571392387,\n",
              " 0.8388499535590646,\n",
              " 0.7423372456303303,\n",
              " 0.8232711306256861,\n",
              " 0.7814320695769654,\n",
              " 0.6665963016127672,\n",
              " 0.7921557037912694,\n",
              " 0.6411804441442204,\n",
              " 0.6861437135860848,\n",
              " 0.6600101325677616,\n",
              " 0.6520307354555435,\n",
              " 0.5864223591995272,\n",
              " 0.5658616904500551,\n",
              " 0.660896732246897,\n",
              " 0.6551549438486872,\n",
              " 0.7097019336316812,\n",
              " 0.664527569028118,\n",
              " 0.6943764248923416,\n",
              " 0.692181035210673,\n",
              " 0.6356919699400492,\n",
              " 0.6526640209406402,\n",
              " 0.637802921557038,\n",
              " 0.7267162036646122,\n",
              " 0.7138816178333194,\n",
              " 0.7419150553069325,\n",
              " 0.7500211095161702,\n",
              " 0.7722283205268936,\n",
              " 0.8304905851557884,\n",
              " 0.8194291986827664,\n",
              " 0.8289706999915563,\n",
              " 0.8125474964113824,\n",
              " 0.7877649244279323,\n",
              " 0.7516254327450818,\n",
              " 0.7842607447437306,\n",
              " 0.7797433082833742,\n",
              " 0.8132652199611587,\n",
              " 0.8141096006079542,\n",
              " 0.7947310647639958,\n",
              " 0.8333614793548934,\n",
              " 0.8589884319851391,\n",
              " 0.8390188296884238,\n",
              " 0.8562864139153934,\n",
              " 0.8748627881448958,\n",
              " 0.887824031073208,\n",
              " 0.9009541501308793,\n",
              " 0.9279321117959978,\n",
              " 0.9485349995778098,\n",
              " 0.9333361479354896,\n",
              " 0.9174617917757326,\n",
              " 0.925441188887951,\n",
              " 0.9177151059697712,\n",
              " 0.9483239044161109,\n",
              " 0.9406400405302711,\n",
              " 0.9663514312251966,\n",
              " 0.9563033015283293,\n",
              " 0.964915984125644]"
            ]
          },
          "metadata": {
            "tags": []
          },
          "execution_count": 102
        }
      ]
    },
    {
      "cell_type": "code",
      "metadata": {
        "colab": {
          "base_uri": "https://localhost:8080/"
        },
        "id": "p5Glpm03mr6o",
        "outputId": "b98f8bc4-86dd-4257-dd89-94c63d6e7b04"
      },
      "source": [
        "# demonstrate prediction for next 10 days\n",
        "from numpy import array\n",
        "\n",
        "lst_output=[]\n",
        "n_steps=100\n",
        "i=0\n",
        "while(i<30):\n",
        "    \n",
        "    if(len(temp_input)>100):\n",
        "        #print(temp_input)\n",
        "        x_input=np.array(temp_input[1:])\n",
        "        print(\"{} day input {}\".format(i,x_input))\n",
        "        x_input=x_input.reshape(1,-1)\n",
        "        x_input = x_input.reshape((1, n_steps, 1))\n",
        "        #print(x_input)\n",
        "        yhat = model.predict(x_input, verbose=0)\n",
        "        print(\"{} day output {}\".format(i,yhat))\n",
        "        temp_input.extend(yhat[0].tolist())\n",
        "        temp_input=temp_input[1:]\n",
        "        #print(temp_input)\n",
        "        lst_output.extend(yhat.tolist())\n",
        "        i=i+1\n",
        "    else:\n",
        "        x_input = x_input.reshape((1, n_steps,1))\n",
        "        yhat = model.predict(x_input, verbose=0)\n",
        "        print(yhat[0])\n",
        "        temp_input.extend(yhat[0].tolist())\n",
        "        print(len(temp_input))\n",
        "        lst_output.extend(yhat.tolist())\n",
        "        i=i+1\n",
        "    \n",
        "\n",
        "print(lst_output)"
      ],
      "execution_count": 103,
      "outputs": [
        {
          "output_type": "stream",
          "text": [
            "[0.9829198]\n",
            "101\n",
            "1 day input [0.8866419  0.87431394 0.88431985 0.87836697 0.8986321  0.92582116\n",
            " 0.92877649 0.95676771 0.93869797 0.93304061 0.94950604 0.96424048\n",
            " 0.95512117 0.95989192 0.96635143 0.96246728 0.92295027 0.9598497\n",
            " 0.98792536 0.98594106 0.92531453 0.92172591 0.96474711 0.97572406\n",
            " 0.99159841 0.96972895 0.97614625 0.96795575 1.         0.99016297\n",
            " 0.99050072 0.96538039 0.98488559 0.97086887 0.94026007 0.87748037\n",
            " 0.83483915 0.85413324 0.77336823 0.77269273 0.88014017 0.84007431\n",
            " 0.89673225 0.85527316 0.83884995 0.74233725 0.82327113 0.78143207\n",
            " 0.6665963  0.7921557  0.64118044 0.68614371 0.66001013 0.65203074\n",
            " 0.58642236 0.56586169 0.66089673 0.65515494 0.70970193 0.66452757\n",
            " 0.69437642 0.69218104 0.63569197 0.65266402 0.63780292 0.7267162\n",
            " 0.71388162 0.74191506 0.75002111 0.77222832 0.83049059 0.8194292\n",
            " 0.8289707  0.8125475  0.78776492 0.75162543 0.78426074 0.77974331\n",
            " 0.81326522 0.8141096  0.79473106 0.83336148 0.85898843 0.83901883\n",
            " 0.85628641 0.87486279 0.88782403 0.90095415 0.92793211 0.948535\n",
            " 0.93333615 0.91746179 0.92544119 0.91771511 0.9483239  0.94064004\n",
            " 0.96635143 0.9563033  0.96491598 0.98291981]\n",
            "1 day output [[0.9923362]]\n",
            "2 day input [0.87431394 0.88431985 0.87836697 0.8986321  0.92582116 0.92877649\n",
            " 0.95676771 0.93869797 0.93304061 0.94950604 0.96424048 0.95512117\n",
            " 0.95989192 0.96635143 0.96246728 0.92295027 0.9598497  0.98792536\n",
            " 0.98594106 0.92531453 0.92172591 0.96474711 0.97572406 0.99159841\n",
            " 0.96972895 0.97614625 0.96795575 1.         0.99016297 0.99050072\n",
            " 0.96538039 0.98488559 0.97086887 0.94026007 0.87748037 0.83483915\n",
            " 0.85413324 0.77336823 0.77269273 0.88014017 0.84007431 0.89673225\n",
            " 0.85527316 0.83884995 0.74233725 0.82327113 0.78143207 0.6665963\n",
            " 0.7921557  0.64118044 0.68614371 0.66001013 0.65203074 0.58642236\n",
            " 0.56586169 0.66089673 0.65515494 0.70970193 0.66452757 0.69437642\n",
            " 0.69218104 0.63569197 0.65266402 0.63780292 0.7267162  0.71388162\n",
            " 0.74191506 0.75002111 0.77222832 0.83049059 0.8194292  0.8289707\n",
            " 0.8125475  0.78776492 0.75162543 0.78426074 0.77974331 0.81326522\n",
            " 0.8141096  0.79473106 0.83336148 0.85898843 0.83901883 0.85628641\n",
            " 0.87486279 0.88782403 0.90095415 0.92793211 0.948535   0.93333615\n",
            " 0.91746179 0.92544119 0.91771511 0.9483239  0.94064004 0.96635143\n",
            " 0.9563033  0.96491598 0.98291981 0.99233621]\n",
            "2 day output [[1.0026613]]\n",
            "3 day input [0.88431985 0.87836697 0.8986321  0.92582116 0.92877649 0.95676771\n",
            " 0.93869797 0.93304061 0.94950604 0.96424048 0.95512117 0.95989192\n",
            " 0.96635143 0.96246728 0.92295027 0.9598497  0.98792536 0.98594106\n",
            " 0.92531453 0.92172591 0.96474711 0.97572406 0.99159841 0.96972895\n",
            " 0.97614625 0.96795575 1.         0.99016297 0.99050072 0.96538039\n",
            " 0.98488559 0.97086887 0.94026007 0.87748037 0.83483915 0.85413324\n",
            " 0.77336823 0.77269273 0.88014017 0.84007431 0.89673225 0.85527316\n",
            " 0.83884995 0.74233725 0.82327113 0.78143207 0.6665963  0.7921557\n",
            " 0.64118044 0.68614371 0.66001013 0.65203074 0.58642236 0.56586169\n",
            " 0.66089673 0.65515494 0.70970193 0.66452757 0.69437642 0.69218104\n",
            " 0.63569197 0.65266402 0.63780292 0.7267162  0.71388162 0.74191506\n",
            " 0.75002111 0.77222832 0.83049059 0.8194292  0.8289707  0.8125475\n",
            " 0.78776492 0.75162543 0.78426074 0.77974331 0.81326522 0.8141096\n",
            " 0.79473106 0.83336148 0.85898843 0.83901883 0.85628641 0.87486279\n",
            " 0.88782403 0.90095415 0.92793211 0.948535   0.93333615 0.91746179\n",
            " 0.92544119 0.91771511 0.9483239  0.94064004 0.96635143 0.9563033\n",
            " 0.96491598 0.98291981 0.99233621 1.00266135]\n",
            "3 day output [[1.0133041]]\n",
            "4 day input [0.87836697 0.8986321  0.92582116 0.92877649 0.95676771 0.93869797\n",
            " 0.93304061 0.94950604 0.96424048 0.95512117 0.95989192 0.96635143\n",
            " 0.96246728 0.92295027 0.9598497  0.98792536 0.98594106 0.92531453\n",
            " 0.92172591 0.96474711 0.97572406 0.99159841 0.96972895 0.97614625\n",
            " 0.96795575 1.         0.99016297 0.99050072 0.96538039 0.98488559\n",
            " 0.97086887 0.94026007 0.87748037 0.83483915 0.85413324 0.77336823\n",
            " 0.77269273 0.88014017 0.84007431 0.89673225 0.85527316 0.83884995\n",
            " 0.74233725 0.82327113 0.78143207 0.6665963  0.7921557  0.64118044\n",
            " 0.68614371 0.66001013 0.65203074 0.58642236 0.56586169 0.66089673\n",
            " 0.65515494 0.70970193 0.66452757 0.69437642 0.69218104 0.63569197\n",
            " 0.65266402 0.63780292 0.7267162  0.71388162 0.74191506 0.75002111\n",
            " 0.77222832 0.83049059 0.8194292  0.8289707  0.8125475  0.78776492\n",
            " 0.75162543 0.78426074 0.77974331 0.81326522 0.8141096  0.79473106\n",
            " 0.83336148 0.85898843 0.83901883 0.85628641 0.87486279 0.88782403\n",
            " 0.90095415 0.92793211 0.948535   0.93333615 0.91746179 0.92544119\n",
            " 0.91771511 0.9483239  0.94064004 0.96635143 0.9563033  0.96491598\n",
            " 0.98291981 0.99233621 1.00266135 1.01330411]\n",
            "4 day output [[1.023909]]\n",
            "5 day input [0.8986321  0.92582116 0.92877649 0.95676771 0.93869797 0.93304061\n",
            " 0.94950604 0.96424048 0.95512117 0.95989192 0.96635143 0.96246728\n",
            " 0.92295027 0.9598497  0.98792536 0.98594106 0.92531453 0.92172591\n",
            " 0.96474711 0.97572406 0.99159841 0.96972895 0.97614625 0.96795575\n",
            " 1.         0.99016297 0.99050072 0.96538039 0.98488559 0.97086887\n",
            " 0.94026007 0.87748037 0.83483915 0.85413324 0.77336823 0.77269273\n",
            " 0.88014017 0.84007431 0.89673225 0.85527316 0.83884995 0.74233725\n",
            " 0.82327113 0.78143207 0.6665963  0.7921557  0.64118044 0.68614371\n",
            " 0.66001013 0.65203074 0.58642236 0.56586169 0.66089673 0.65515494\n",
            " 0.70970193 0.66452757 0.69437642 0.69218104 0.63569197 0.65266402\n",
            " 0.63780292 0.7267162  0.71388162 0.74191506 0.75002111 0.77222832\n",
            " 0.83049059 0.8194292  0.8289707  0.8125475  0.78776492 0.75162543\n",
            " 0.78426074 0.77974331 0.81326522 0.8141096  0.79473106 0.83336148\n",
            " 0.85898843 0.83901883 0.85628641 0.87486279 0.88782403 0.90095415\n",
            " 0.92793211 0.948535   0.93333615 0.91746179 0.92544119 0.91771511\n",
            " 0.9483239  0.94064004 0.96635143 0.9563033  0.96491598 0.98291981\n",
            " 0.99233621 1.00266135 1.01330411 1.02390897]\n",
            "5 day output [[1.0343337]]\n",
            "6 day input [0.92582116 0.92877649 0.95676771 0.93869797 0.93304061 0.94950604\n",
            " 0.96424048 0.95512117 0.95989192 0.96635143 0.96246728 0.92295027\n",
            " 0.9598497  0.98792536 0.98594106 0.92531453 0.92172591 0.96474711\n",
            " 0.97572406 0.99159841 0.96972895 0.97614625 0.96795575 1.\n",
            " 0.99016297 0.99050072 0.96538039 0.98488559 0.97086887 0.94026007\n",
            " 0.87748037 0.83483915 0.85413324 0.77336823 0.77269273 0.88014017\n",
            " 0.84007431 0.89673225 0.85527316 0.83884995 0.74233725 0.82327113\n",
            " 0.78143207 0.6665963  0.7921557  0.64118044 0.68614371 0.66001013\n",
            " 0.65203074 0.58642236 0.56586169 0.66089673 0.65515494 0.70970193\n",
            " 0.66452757 0.69437642 0.69218104 0.63569197 0.65266402 0.63780292\n",
            " 0.7267162  0.71388162 0.74191506 0.75002111 0.77222832 0.83049059\n",
            " 0.8194292  0.8289707  0.8125475  0.78776492 0.75162543 0.78426074\n",
            " 0.77974331 0.81326522 0.8141096  0.79473106 0.83336148 0.85898843\n",
            " 0.83901883 0.85628641 0.87486279 0.88782403 0.90095415 0.92793211\n",
            " 0.948535   0.93333615 0.91746179 0.92544119 0.91771511 0.9483239\n",
            " 0.94064004 0.96635143 0.9563033  0.96491598 0.98291981 0.99233621\n",
            " 1.00266135 1.01330411 1.02390897 1.03433371]\n",
            "6 day output [[1.0445551]]\n",
            "7 day input [0.92877649 0.95676771 0.93869797 0.93304061 0.94950604 0.96424048\n",
            " 0.95512117 0.95989192 0.96635143 0.96246728 0.92295027 0.9598497\n",
            " 0.98792536 0.98594106 0.92531453 0.92172591 0.96474711 0.97572406\n",
            " 0.99159841 0.96972895 0.97614625 0.96795575 1.         0.99016297\n",
            " 0.99050072 0.96538039 0.98488559 0.97086887 0.94026007 0.87748037\n",
            " 0.83483915 0.85413324 0.77336823 0.77269273 0.88014017 0.84007431\n",
            " 0.89673225 0.85527316 0.83884995 0.74233725 0.82327113 0.78143207\n",
            " 0.6665963  0.7921557  0.64118044 0.68614371 0.66001013 0.65203074\n",
            " 0.58642236 0.56586169 0.66089673 0.65515494 0.70970193 0.66452757\n",
            " 0.69437642 0.69218104 0.63569197 0.65266402 0.63780292 0.7267162\n",
            " 0.71388162 0.74191506 0.75002111 0.77222832 0.83049059 0.8194292\n",
            " 0.8289707  0.8125475  0.78776492 0.75162543 0.78426074 0.77974331\n",
            " 0.81326522 0.8141096  0.79473106 0.83336148 0.85898843 0.83901883\n",
            " 0.85628641 0.87486279 0.88782403 0.90095415 0.92793211 0.948535\n",
            " 0.93333615 0.91746179 0.92544119 0.91771511 0.9483239  0.94064004\n",
            " 0.96635143 0.9563033  0.96491598 0.98291981 0.99233621 1.00266135\n",
            " 1.01330411 1.02390897 1.03433371 1.04455507]\n",
            "7 day output [[1.0546077]]\n",
            "8 day input [0.95676771 0.93869797 0.93304061 0.94950604 0.96424048 0.95512117\n",
            " 0.95989192 0.96635143 0.96246728 0.92295027 0.9598497  0.98792536\n",
            " 0.98594106 0.92531453 0.92172591 0.96474711 0.97572406 0.99159841\n",
            " 0.96972895 0.97614625 0.96795575 1.         0.99016297 0.99050072\n",
            " 0.96538039 0.98488559 0.97086887 0.94026007 0.87748037 0.83483915\n",
            " 0.85413324 0.77336823 0.77269273 0.88014017 0.84007431 0.89673225\n",
            " 0.85527316 0.83884995 0.74233725 0.82327113 0.78143207 0.6665963\n",
            " 0.7921557  0.64118044 0.68614371 0.66001013 0.65203074 0.58642236\n",
            " 0.56586169 0.66089673 0.65515494 0.70970193 0.66452757 0.69437642\n",
            " 0.69218104 0.63569197 0.65266402 0.63780292 0.7267162  0.71388162\n",
            " 0.74191506 0.75002111 0.77222832 0.83049059 0.8194292  0.8289707\n",
            " 0.8125475  0.78776492 0.75162543 0.78426074 0.77974331 0.81326522\n",
            " 0.8141096  0.79473106 0.83336148 0.85898843 0.83901883 0.85628641\n",
            " 0.87486279 0.88782403 0.90095415 0.92793211 0.948535   0.93333615\n",
            " 0.91746179 0.92544119 0.91771511 0.9483239  0.94064004 0.96635143\n",
            " 0.9563033  0.96491598 0.98291981 0.99233621 1.00266135 1.01330411\n",
            " 1.02390897 1.03433371 1.04455507 1.05460775]\n",
            "8 day output [[1.0645479]]\n",
            "9 day input [0.93869797 0.93304061 0.94950604 0.96424048 0.95512117 0.95989192\n",
            " 0.96635143 0.96246728 0.92295027 0.9598497  0.98792536 0.98594106\n",
            " 0.92531453 0.92172591 0.96474711 0.97572406 0.99159841 0.96972895\n",
            " 0.97614625 0.96795575 1.         0.99016297 0.99050072 0.96538039\n",
            " 0.98488559 0.97086887 0.94026007 0.87748037 0.83483915 0.85413324\n",
            " 0.77336823 0.77269273 0.88014017 0.84007431 0.89673225 0.85527316\n",
            " 0.83884995 0.74233725 0.82327113 0.78143207 0.6665963  0.7921557\n",
            " 0.64118044 0.68614371 0.66001013 0.65203074 0.58642236 0.56586169\n",
            " 0.66089673 0.65515494 0.70970193 0.66452757 0.69437642 0.69218104\n",
            " 0.63569197 0.65266402 0.63780292 0.7267162  0.71388162 0.74191506\n",
            " 0.75002111 0.77222832 0.83049059 0.8194292  0.8289707  0.8125475\n",
            " 0.78776492 0.75162543 0.78426074 0.77974331 0.81326522 0.8141096\n",
            " 0.79473106 0.83336148 0.85898843 0.83901883 0.85628641 0.87486279\n",
            " 0.88782403 0.90095415 0.92793211 0.948535   0.93333615 0.91746179\n",
            " 0.92544119 0.91771511 0.9483239  0.94064004 0.96635143 0.9563033\n",
            " 0.96491598 0.98291981 0.99233621 1.00266135 1.01330411 1.02390897\n",
            " 1.03433371 1.04455507 1.05460775 1.0645479 ]\n",
            "9 day output [[1.0744376]]\n",
            "10 day input [0.93304061 0.94950604 0.96424048 0.95512117 0.95989192 0.96635143\n",
            " 0.96246728 0.92295027 0.9598497  0.98792536 0.98594106 0.92531453\n",
            " 0.92172591 0.96474711 0.97572406 0.99159841 0.96972895 0.97614625\n",
            " 0.96795575 1.         0.99016297 0.99050072 0.96538039 0.98488559\n",
            " 0.97086887 0.94026007 0.87748037 0.83483915 0.85413324 0.77336823\n",
            " 0.77269273 0.88014017 0.84007431 0.89673225 0.85527316 0.83884995\n",
            " 0.74233725 0.82327113 0.78143207 0.6665963  0.7921557  0.64118044\n",
            " 0.68614371 0.66001013 0.65203074 0.58642236 0.56586169 0.66089673\n",
            " 0.65515494 0.70970193 0.66452757 0.69437642 0.69218104 0.63569197\n",
            " 0.65266402 0.63780292 0.7267162  0.71388162 0.74191506 0.75002111\n",
            " 0.77222832 0.83049059 0.8194292  0.8289707  0.8125475  0.78776492\n",
            " 0.75162543 0.78426074 0.77974331 0.81326522 0.8141096  0.79473106\n",
            " 0.83336148 0.85898843 0.83901883 0.85628641 0.87486279 0.88782403\n",
            " 0.90095415 0.92793211 0.948535   0.93333615 0.91746179 0.92544119\n",
            " 0.91771511 0.9483239  0.94064004 0.96635143 0.9563033  0.96491598\n",
            " 0.98291981 0.99233621 1.00266135 1.01330411 1.02390897 1.03433371\n",
            " 1.04455507 1.05460775 1.0645479  1.07443762]\n",
            "10 day output [[1.0843332]]\n",
            "11 day input [0.94950604 0.96424048 0.95512117 0.95989192 0.96635143 0.96246728\n",
            " 0.92295027 0.9598497  0.98792536 0.98594106 0.92531453 0.92172591\n",
            " 0.96474711 0.97572406 0.99159841 0.96972895 0.97614625 0.96795575\n",
            " 1.         0.99016297 0.99050072 0.96538039 0.98488559 0.97086887\n",
            " 0.94026007 0.87748037 0.83483915 0.85413324 0.77336823 0.77269273\n",
            " 0.88014017 0.84007431 0.89673225 0.85527316 0.83884995 0.74233725\n",
            " 0.82327113 0.78143207 0.6665963  0.7921557  0.64118044 0.68614371\n",
            " 0.66001013 0.65203074 0.58642236 0.56586169 0.66089673 0.65515494\n",
            " 0.70970193 0.66452757 0.69437642 0.69218104 0.63569197 0.65266402\n",
            " 0.63780292 0.7267162  0.71388162 0.74191506 0.75002111 0.77222832\n",
            " 0.83049059 0.8194292  0.8289707  0.8125475  0.78776492 0.75162543\n",
            " 0.78426074 0.77974331 0.81326522 0.8141096  0.79473106 0.83336148\n",
            " 0.85898843 0.83901883 0.85628641 0.87486279 0.88782403 0.90095415\n",
            " 0.92793211 0.948535   0.93333615 0.91746179 0.92544119 0.91771511\n",
            " 0.9483239  0.94064004 0.96635143 0.9563033  0.96491598 0.98291981\n",
            " 0.99233621 1.00266135 1.01330411 1.02390897 1.03433371 1.04455507\n",
            " 1.05460775 1.0645479  1.07443762 1.08433318]\n",
            "11 day output [[1.0942818]]\n",
            "12 day input [0.96424048 0.95512117 0.95989192 0.96635143 0.96246728 0.92295027\n",
            " 0.9598497  0.98792536 0.98594106 0.92531453 0.92172591 0.96474711\n",
            " 0.97572406 0.99159841 0.96972895 0.97614625 0.96795575 1.\n",
            " 0.99016297 0.99050072 0.96538039 0.98488559 0.97086887 0.94026007\n",
            " 0.87748037 0.83483915 0.85413324 0.77336823 0.77269273 0.88014017\n",
            " 0.84007431 0.89673225 0.85527316 0.83884995 0.74233725 0.82327113\n",
            " 0.78143207 0.6665963  0.7921557  0.64118044 0.68614371 0.66001013\n",
            " 0.65203074 0.58642236 0.56586169 0.66089673 0.65515494 0.70970193\n",
            " 0.66452757 0.69437642 0.69218104 0.63569197 0.65266402 0.63780292\n",
            " 0.7267162  0.71388162 0.74191506 0.75002111 0.77222832 0.83049059\n",
            " 0.8194292  0.8289707  0.8125475  0.78776492 0.75162543 0.78426074\n",
            " 0.77974331 0.81326522 0.8141096  0.79473106 0.83336148 0.85898843\n",
            " 0.83901883 0.85628641 0.87486279 0.88782403 0.90095415 0.92793211\n",
            " 0.948535   0.93333615 0.91746179 0.92544119 0.91771511 0.9483239\n",
            " 0.94064004 0.96635143 0.9563033  0.96491598 0.98291981 0.99233621\n",
            " 1.00266135 1.01330411 1.02390897 1.03433371 1.04455507 1.05460775\n",
            " 1.0645479  1.07443762 1.08433318 1.09428179]\n",
            "12 day output [[1.1043159]]\n",
            "13 day input [0.95512117 0.95989192 0.96635143 0.96246728 0.92295027 0.9598497\n",
            " 0.98792536 0.98594106 0.92531453 0.92172591 0.96474711 0.97572406\n",
            " 0.99159841 0.96972895 0.97614625 0.96795575 1.         0.99016297\n",
            " 0.99050072 0.96538039 0.98488559 0.97086887 0.94026007 0.87748037\n",
            " 0.83483915 0.85413324 0.77336823 0.77269273 0.88014017 0.84007431\n",
            " 0.89673225 0.85527316 0.83884995 0.74233725 0.82327113 0.78143207\n",
            " 0.6665963  0.7921557  0.64118044 0.68614371 0.66001013 0.65203074\n",
            " 0.58642236 0.56586169 0.66089673 0.65515494 0.70970193 0.66452757\n",
            " 0.69437642 0.69218104 0.63569197 0.65266402 0.63780292 0.7267162\n",
            " 0.71388162 0.74191506 0.75002111 0.77222832 0.83049059 0.8194292\n",
            " 0.8289707  0.8125475  0.78776492 0.75162543 0.78426074 0.77974331\n",
            " 0.81326522 0.8141096  0.79473106 0.83336148 0.85898843 0.83901883\n",
            " 0.85628641 0.87486279 0.88782403 0.90095415 0.92793211 0.948535\n",
            " 0.93333615 0.91746179 0.92544119 0.91771511 0.9483239  0.94064004\n",
            " 0.96635143 0.9563033  0.96491598 0.98291981 0.99233621 1.00266135\n",
            " 1.01330411 1.02390897 1.03433371 1.04455507 1.05460775 1.0645479\n",
            " 1.07443762 1.08433318 1.09428179 1.10431588]\n",
            "13 day output [[1.1144581]]\n",
            "14 day input [0.95989192 0.96635143 0.96246728 0.92295027 0.9598497  0.98792536\n",
            " 0.98594106 0.92531453 0.92172591 0.96474711 0.97572406 0.99159841\n",
            " 0.96972895 0.97614625 0.96795575 1.         0.99016297 0.99050072\n",
            " 0.96538039 0.98488559 0.97086887 0.94026007 0.87748037 0.83483915\n",
            " 0.85413324 0.77336823 0.77269273 0.88014017 0.84007431 0.89673225\n",
            " 0.85527316 0.83884995 0.74233725 0.82327113 0.78143207 0.6665963\n",
            " 0.7921557  0.64118044 0.68614371 0.66001013 0.65203074 0.58642236\n",
            " 0.56586169 0.66089673 0.65515494 0.70970193 0.66452757 0.69437642\n",
            " 0.69218104 0.63569197 0.65266402 0.63780292 0.7267162  0.71388162\n",
            " 0.74191506 0.75002111 0.77222832 0.83049059 0.8194292  0.8289707\n",
            " 0.8125475  0.78776492 0.75162543 0.78426074 0.77974331 0.81326522\n",
            " 0.8141096  0.79473106 0.83336148 0.85898843 0.83901883 0.85628641\n",
            " 0.87486279 0.88782403 0.90095415 0.92793211 0.948535   0.93333615\n",
            " 0.91746179 0.92544119 0.91771511 0.9483239  0.94064004 0.96635143\n",
            " 0.9563033  0.96491598 0.98291981 0.99233621 1.00266135 1.01330411\n",
            " 1.02390897 1.03433371 1.04455507 1.05460775 1.0645479  1.07443762\n",
            " 1.08433318 1.09428179 1.10431588 1.11445808]\n",
            "14 day output [[1.1247172]]\n",
            "15 day input [0.96635143 0.96246728 0.92295027 0.9598497  0.98792536 0.98594106\n",
            " 0.92531453 0.92172591 0.96474711 0.97572406 0.99159841 0.96972895\n",
            " 0.97614625 0.96795575 1.         0.99016297 0.99050072 0.96538039\n",
            " 0.98488559 0.97086887 0.94026007 0.87748037 0.83483915 0.85413324\n",
            " 0.77336823 0.77269273 0.88014017 0.84007431 0.89673225 0.85527316\n",
            " 0.83884995 0.74233725 0.82327113 0.78143207 0.6665963  0.7921557\n",
            " 0.64118044 0.68614371 0.66001013 0.65203074 0.58642236 0.56586169\n",
            " 0.66089673 0.65515494 0.70970193 0.66452757 0.69437642 0.69218104\n",
            " 0.63569197 0.65266402 0.63780292 0.7267162  0.71388162 0.74191506\n",
            " 0.75002111 0.77222832 0.83049059 0.8194292  0.8289707  0.8125475\n",
            " 0.78776492 0.75162543 0.78426074 0.77974331 0.81326522 0.8141096\n",
            " 0.79473106 0.83336148 0.85898843 0.83901883 0.85628641 0.87486279\n",
            " 0.88782403 0.90095415 0.92793211 0.948535   0.93333615 0.91746179\n",
            " 0.92544119 0.91771511 0.9483239  0.94064004 0.96635143 0.9563033\n",
            " 0.96491598 0.98291981 0.99233621 1.00266135 1.01330411 1.02390897\n",
            " 1.03433371 1.04455507 1.05460775 1.0645479  1.07443762 1.08433318\n",
            " 1.09428179 1.10431588 1.11445808 1.12471724]\n",
            "15 day output [[1.135093]]\n",
            "16 day input [0.96246728 0.92295027 0.9598497  0.98792536 0.98594106 0.92531453\n",
            " 0.92172591 0.96474711 0.97572406 0.99159841 0.96972895 0.97614625\n",
            " 0.96795575 1.         0.99016297 0.99050072 0.96538039 0.98488559\n",
            " 0.97086887 0.94026007 0.87748037 0.83483915 0.85413324 0.77336823\n",
            " 0.77269273 0.88014017 0.84007431 0.89673225 0.85527316 0.83884995\n",
            " 0.74233725 0.82327113 0.78143207 0.6665963  0.7921557  0.64118044\n",
            " 0.68614371 0.66001013 0.65203074 0.58642236 0.56586169 0.66089673\n",
            " 0.65515494 0.70970193 0.66452757 0.69437642 0.69218104 0.63569197\n",
            " 0.65266402 0.63780292 0.7267162  0.71388162 0.74191506 0.75002111\n",
            " 0.77222832 0.83049059 0.8194292  0.8289707  0.8125475  0.78776492\n",
            " 0.75162543 0.78426074 0.77974331 0.81326522 0.8141096  0.79473106\n",
            " 0.83336148 0.85898843 0.83901883 0.85628641 0.87486279 0.88782403\n",
            " 0.90095415 0.92793211 0.948535   0.93333615 0.91746179 0.92544119\n",
            " 0.91771511 0.9483239  0.94064004 0.96635143 0.9563033  0.96491598\n",
            " 0.98291981 0.99233621 1.00266135 1.01330411 1.02390897 1.03433371\n",
            " 1.04455507 1.05460775 1.0645479  1.07443762 1.08433318 1.09428179\n",
            " 1.10431588 1.11445808 1.12471724 1.13509297]\n",
            "16 day output [[1.1455792]]\n",
            "17 day input [0.92295027 0.9598497  0.98792536 0.98594106 0.92531453 0.92172591\n",
            " 0.96474711 0.97572406 0.99159841 0.96972895 0.97614625 0.96795575\n",
            " 1.         0.99016297 0.99050072 0.96538039 0.98488559 0.97086887\n",
            " 0.94026007 0.87748037 0.83483915 0.85413324 0.77336823 0.77269273\n",
            " 0.88014017 0.84007431 0.89673225 0.85527316 0.83884995 0.74233725\n",
            " 0.82327113 0.78143207 0.6665963  0.7921557  0.64118044 0.68614371\n",
            " 0.66001013 0.65203074 0.58642236 0.56586169 0.66089673 0.65515494\n",
            " 0.70970193 0.66452757 0.69437642 0.69218104 0.63569197 0.65266402\n",
            " 0.63780292 0.7267162  0.71388162 0.74191506 0.75002111 0.77222832\n",
            " 0.83049059 0.8194292  0.8289707  0.8125475  0.78776492 0.75162543\n",
            " 0.78426074 0.77974331 0.81326522 0.8141096  0.79473106 0.83336148\n",
            " 0.85898843 0.83901883 0.85628641 0.87486279 0.88782403 0.90095415\n",
            " 0.92793211 0.948535   0.93333615 0.91746179 0.92544119 0.91771511\n",
            " 0.9483239  0.94064004 0.96635143 0.9563033  0.96491598 0.98291981\n",
            " 0.99233621 1.00266135 1.01330411 1.02390897 1.03433371 1.04455507\n",
            " 1.05460775 1.0645479  1.07443762 1.08433318 1.09428179 1.10431588\n",
            " 1.11445808 1.12471724 1.13509297 1.14557922]\n",
            "17 day output [[1.1561646]]\n",
            "18 day input [0.9598497  0.98792536 0.98594106 0.92531453 0.92172591 0.96474711\n",
            " 0.97572406 0.99159841 0.96972895 0.97614625 0.96795575 1.\n",
            " 0.99016297 0.99050072 0.96538039 0.98488559 0.97086887 0.94026007\n",
            " 0.87748037 0.83483915 0.85413324 0.77336823 0.77269273 0.88014017\n",
            " 0.84007431 0.89673225 0.85527316 0.83884995 0.74233725 0.82327113\n",
            " 0.78143207 0.6665963  0.7921557  0.64118044 0.68614371 0.66001013\n",
            " 0.65203074 0.58642236 0.56586169 0.66089673 0.65515494 0.70970193\n",
            " 0.66452757 0.69437642 0.69218104 0.63569197 0.65266402 0.63780292\n",
            " 0.7267162  0.71388162 0.74191506 0.75002111 0.77222832 0.83049059\n",
            " 0.8194292  0.8289707  0.8125475  0.78776492 0.75162543 0.78426074\n",
            " 0.77974331 0.81326522 0.8141096  0.79473106 0.83336148 0.85898843\n",
            " 0.83901883 0.85628641 0.87486279 0.88782403 0.90095415 0.92793211\n",
            " 0.948535   0.93333615 0.91746179 0.92544119 0.91771511 0.9483239\n",
            " 0.94064004 0.96635143 0.9563033  0.96491598 0.98291981 0.99233621\n",
            " 1.00266135 1.01330411 1.02390897 1.03433371 1.04455507 1.05460775\n",
            " 1.0645479  1.07443762 1.08433318 1.09428179 1.10431588 1.11445808\n",
            " 1.12471724 1.13509297 1.14557922 1.15616465]\n",
            "18 day output [[1.1668363]]\n",
            "19 day input [0.98792536 0.98594106 0.92531453 0.92172591 0.96474711 0.97572406\n",
            " 0.99159841 0.96972895 0.97614625 0.96795575 1.         0.99016297\n",
            " 0.99050072 0.96538039 0.98488559 0.97086887 0.94026007 0.87748037\n",
            " 0.83483915 0.85413324 0.77336823 0.77269273 0.88014017 0.84007431\n",
            " 0.89673225 0.85527316 0.83884995 0.74233725 0.82327113 0.78143207\n",
            " 0.6665963  0.7921557  0.64118044 0.68614371 0.66001013 0.65203074\n",
            " 0.58642236 0.56586169 0.66089673 0.65515494 0.70970193 0.66452757\n",
            " 0.69437642 0.69218104 0.63569197 0.65266402 0.63780292 0.7267162\n",
            " 0.71388162 0.74191506 0.75002111 0.77222832 0.83049059 0.8194292\n",
            " 0.8289707  0.8125475  0.78776492 0.75162543 0.78426074 0.77974331\n",
            " 0.81326522 0.8141096  0.79473106 0.83336148 0.85898843 0.83901883\n",
            " 0.85628641 0.87486279 0.88782403 0.90095415 0.92793211 0.948535\n",
            " 0.93333615 0.91746179 0.92544119 0.91771511 0.9483239  0.94064004\n",
            " 0.96635143 0.9563033  0.96491598 0.98291981 0.99233621 1.00266135\n",
            " 1.01330411 1.02390897 1.03433371 1.04455507 1.05460775 1.0645479\n",
            " 1.07443762 1.08433318 1.09428179 1.10431588 1.11445808 1.12471724\n",
            " 1.13509297 1.14557922 1.15616465 1.16683626]\n",
            "19 day output [[1.1775805]]\n",
            "20 day input [0.98594106 0.92531453 0.92172591 0.96474711 0.97572406 0.99159841\n",
            " 0.96972895 0.97614625 0.96795575 1.         0.99016297 0.99050072\n",
            " 0.96538039 0.98488559 0.97086887 0.94026007 0.87748037 0.83483915\n",
            " 0.85413324 0.77336823 0.77269273 0.88014017 0.84007431 0.89673225\n",
            " 0.85527316 0.83884995 0.74233725 0.82327113 0.78143207 0.6665963\n",
            " 0.7921557  0.64118044 0.68614371 0.66001013 0.65203074 0.58642236\n",
            " 0.56586169 0.66089673 0.65515494 0.70970193 0.66452757 0.69437642\n",
            " 0.69218104 0.63569197 0.65266402 0.63780292 0.7267162  0.71388162\n",
            " 0.74191506 0.75002111 0.77222832 0.83049059 0.8194292  0.8289707\n",
            " 0.8125475  0.78776492 0.75162543 0.78426074 0.77974331 0.81326522\n",
            " 0.8141096  0.79473106 0.83336148 0.85898843 0.83901883 0.85628641\n",
            " 0.87486279 0.88782403 0.90095415 0.92793211 0.948535   0.93333615\n",
            " 0.91746179 0.92544119 0.91771511 0.9483239  0.94064004 0.96635143\n",
            " 0.9563033  0.96491598 0.98291981 0.99233621 1.00266135 1.01330411\n",
            " 1.02390897 1.03433371 1.04455507 1.05460775 1.0645479  1.07443762\n",
            " 1.08433318 1.09428179 1.10431588 1.11445808 1.12471724 1.13509297\n",
            " 1.14557922 1.15616465 1.16683626 1.17758048]\n",
            "20 day output [[1.1883851]]\n",
            "21 day input [0.92531453 0.92172591 0.96474711 0.97572406 0.99159841 0.96972895\n",
            " 0.97614625 0.96795575 1.         0.99016297 0.99050072 0.96538039\n",
            " 0.98488559 0.97086887 0.94026007 0.87748037 0.83483915 0.85413324\n",
            " 0.77336823 0.77269273 0.88014017 0.84007431 0.89673225 0.85527316\n",
            " 0.83884995 0.74233725 0.82327113 0.78143207 0.6665963  0.7921557\n",
            " 0.64118044 0.68614371 0.66001013 0.65203074 0.58642236 0.56586169\n",
            " 0.66089673 0.65515494 0.70970193 0.66452757 0.69437642 0.69218104\n",
            " 0.63569197 0.65266402 0.63780292 0.7267162  0.71388162 0.74191506\n",
            " 0.75002111 0.77222832 0.83049059 0.8194292  0.8289707  0.8125475\n",
            " 0.78776492 0.75162543 0.78426074 0.77974331 0.81326522 0.8141096\n",
            " 0.79473106 0.83336148 0.85898843 0.83901883 0.85628641 0.87486279\n",
            " 0.88782403 0.90095415 0.92793211 0.948535   0.93333615 0.91746179\n",
            " 0.92544119 0.91771511 0.9483239  0.94064004 0.96635143 0.9563033\n",
            " 0.96491598 0.98291981 0.99233621 1.00266135 1.01330411 1.02390897\n",
            " 1.03433371 1.04455507 1.05460775 1.0645479  1.07443762 1.08433318\n",
            " 1.09428179 1.10431588 1.11445808 1.12471724 1.13509297 1.14557922\n",
            " 1.15616465 1.16683626 1.17758048 1.18838513]\n",
            "21 day output [[1.1992388]]\n",
            "22 day input [0.92172591 0.96474711 0.97572406 0.99159841 0.96972895 0.97614625\n",
            " 0.96795575 1.         0.99016297 0.99050072 0.96538039 0.98488559\n",
            " 0.97086887 0.94026007 0.87748037 0.83483915 0.85413324 0.77336823\n",
            " 0.77269273 0.88014017 0.84007431 0.89673225 0.85527316 0.83884995\n",
            " 0.74233725 0.82327113 0.78143207 0.6665963  0.7921557  0.64118044\n",
            " 0.68614371 0.66001013 0.65203074 0.58642236 0.56586169 0.66089673\n",
            " 0.65515494 0.70970193 0.66452757 0.69437642 0.69218104 0.63569197\n",
            " 0.65266402 0.63780292 0.7267162  0.71388162 0.74191506 0.75002111\n",
            " 0.77222832 0.83049059 0.8194292  0.8289707  0.8125475  0.78776492\n",
            " 0.75162543 0.78426074 0.77974331 0.81326522 0.8141096  0.79473106\n",
            " 0.83336148 0.85898843 0.83901883 0.85628641 0.87486279 0.88782403\n",
            " 0.90095415 0.92793211 0.948535   0.93333615 0.91746179 0.92544119\n",
            " 0.91771511 0.9483239  0.94064004 0.96635143 0.9563033  0.96491598\n",
            " 0.98291981 0.99233621 1.00266135 1.01330411 1.02390897 1.03433371\n",
            " 1.04455507 1.05460775 1.0645479  1.07443762 1.08433318 1.09428179\n",
            " 1.10431588 1.11445808 1.12471724 1.13509297 1.14557922 1.15616465\n",
            " 1.16683626 1.17758048 1.18838513 1.19923878]\n",
            "22 day output [[1.2101322]]\n",
            "23 day input [0.96474711 0.97572406 0.99159841 0.96972895 0.97614625 0.96795575\n",
            " 1.         0.99016297 0.99050072 0.96538039 0.98488559 0.97086887\n",
            " 0.94026007 0.87748037 0.83483915 0.85413324 0.77336823 0.77269273\n",
            " 0.88014017 0.84007431 0.89673225 0.85527316 0.83884995 0.74233725\n",
            " 0.82327113 0.78143207 0.6665963  0.7921557  0.64118044 0.68614371\n",
            " 0.66001013 0.65203074 0.58642236 0.56586169 0.66089673 0.65515494\n",
            " 0.70970193 0.66452757 0.69437642 0.69218104 0.63569197 0.65266402\n",
            " 0.63780292 0.7267162  0.71388162 0.74191506 0.75002111 0.77222832\n",
            " 0.83049059 0.8194292  0.8289707  0.8125475  0.78776492 0.75162543\n",
            " 0.78426074 0.77974331 0.81326522 0.8141096  0.79473106 0.83336148\n",
            " 0.85898843 0.83901883 0.85628641 0.87486279 0.88782403 0.90095415\n",
            " 0.92793211 0.948535   0.93333615 0.91746179 0.92544119 0.91771511\n",
            " 0.9483239  0.94064004 0.96635143 0.9563033  0.96491598 0.98291981\n",
            " 0.99233621 1.00266135 1.01330411 1.02390897 1.03433371 1.04455507\n",
            " 1.05460775 1.0645479  1.07443762 1.08433318 1.09428179 1.10431588\n",
            " 1.11445808 1.12471724 1.13509297 1.14557922 1.15616465 1.16683626\n",
            " 1.17758048 1.18838513 1.19923878 1.21013224]\n",
            "23 day output [[1.2210582]]\n",
            "24 day input [0.97572406 0.99159841 0.96972895 0.97614625 0.96795575 1.\n",
            " 0.99016297 0.99050072 0.96538039 0.98488559 0.97086887 0.94026007\n",
            " 0.87748037 0.83483915 0.85413324 0.77336823 0.77269273 0.88014017\n",
            " 0.84007431 0.89673225 0.85527316 0.83884995 0.74233725 0.82327113\n",
            " 0.78143207 0.6665963  0.7921557  0.64118044 0.68614371 0.66001013\n",
            " 0.65203074 0.58642236 0.56586169 0.66089673 0.65515494 0.70970193\n",
            " 0.66452757 0.69437642 0.69218104 0.63569197 0.65266402 0.63780292\n",
            " 0.7267162  0.71388162 0.74191506 0.75002111 0.77222832 0.83049059\n",
            " 0.8194292  0.8289707  0.8125475  0.78776492 0.75162543 0.78426074\n",
            " 0.77974331 0.81326522 0.8141096  0.79473106 0.83336148 0.85898843\n",
            " 0.83901883 0.85628641 0.87486279 0.88782403 0.90095415 0.92793211\n",
            " 0.948535   0.93333615 0.91746179 0.92544119 0.91771511 0.9483239\n",
            " 0.94064004 0.96635143 0.9563033  0.96491598 0.98291981 0.99233621\n",
            " 1.00266135 1.01330411 1.02390897 1.03433371 1.04455507 1.05460775\n",
            " 1.0645479  1.07443762 1.08433318 1.09428179 1.10431588 1.11445808\n",
            " 1.12471724 1.13509297 1.14557922 1.15616465 1.16683626 1.17758048\n",
            " 1.18838513 1.19923878 1.21013224 1.22105825]\n",
            "24 day output [[1.2320099]]\n",
            "25 day input [0.99159841 0.96972895 0.97614625 0.96795575 1.         0.99016297\n",
            " 0.99050072 0.96538039 0.98488559 0.97086887 0.94026007 0.87748037\n",
            " 0.83483915 0.85413324 0.77336823 0.77269273 0.88014017 0.84007431\n",
            " 0.89673225 0.85527316 0.83884995 0.74233725 0.82327113 0.78143207\n",
            " 0.6665963  0.7921557  0.64118044 0.68614371 0.66001013 0.65203074\n",
            " 0.58642236 0.56586169 0.66089673 0.65515494 0.70970193 0.66452757\n",
            " 0.69437642 0.69218104 0.63569197 0.65266402 0.63780292 0.7267162\n",
            " 0.71388162 0.74191506 0.75002111 0.77222832 0.83049059 0.8194292\n",
            " 0.8289707  0.8125475  0.78776492 0.75162543 0.78426074 0.77974331\n",
            " 0.81326522 0.8141096  0.79473106 0.83336148 0.85898843 0.83901883\n",
            " 0.85628641 0.87486279 0.88782403 0.90095415 0.92793211 0.948535\n",
            " 0.93333615 0.91746179 0.92544119 0.91771511 0.9483239  0.94064004\n",
            " 0.96635143 0.9563033  0.96491598 0.98291981 0.99233621 1.00266135\n",
            " 1.01330411 1.02390897 1.03433371 1.04455507 1.05460775 1.0645479\n",
            " 1.07443762 1.08433318 1.09428179 1.10431588 1.11445808 1.12471724\n",
            " 1.13509297 1.14557922 1.15616465 1.16683626 1.17758048 1.18838513\n",
            " 1.19923878 1.21013224 1.22105825 1.23200989]\n",
            "25 day output [[1.2429819]]\n",
            "26 day input [0.96972895 0.97614625 0.96795575 1.         0.99016297 0.99050072\n",
            " 0.96538039 0.98488559 0.97086887 0.94026007 0.87748037 0.83483915\n",
            " 0.85413324 0.77336823 0.77269273 0.88014017 0.84007431 0.89673225\n",
            " 0.85527316 0.83884995 0.74233725 0.82327113 0.78143207 0.6665963\n",
            " 0.7921557  0.64118044 0.68614371 0.66001013 0.65203074 0.58642236\n",
            " 0.56586169 0.66089673 0.65515494 0.70970193 0.66452757 0.69437642\n",
            " 0.69218104 0.63569197 0.65266402 0.63780292 0.7267162  0.71388162\n",
            " 0.74191506 0.75002111 0.77222832 0.83049059 0.8194292  0.8289707\n",
            " 0.8125475  0.78776492 0.75162543 0.78426074 0.77974331 0.81326522\n",
            " 0.8141096  0.79473106 0.83336148 0.85898843 0.83901883 0.85628641\n",
            " 0.87486279 0.88782403 0.90095415 0.92793211 0.948535   0.93333615\n",
            " 0.91746179 0.92544119 0.91771511 0.9483239  0.94064004 0.96635143\n",
            " 0.9563033  0.96491598 0.98291981 0.99233621 1.00266135 1.01330411\n",
            " 1.02390897 1.03433371 1.04455507 1.05460775 1.0645479  1.07443762\n",
            " 1.08433318 1.09428179 1.10431588 1.11445808 1.12471724 1.13509297\n",
            " 1.14557922 1.15616465 1.16683626 1.17758048 1.18838513 1.19923878\n",
            " 1.21013224 1.22105825 1.23200989 1.24298191]\n",
            "26 day output [[1.25397]]\n",
            "27 day input [0.97614625 0.96795575 1.         0.99016297 0.99050072 0.96538039\n",
            " 0.98488559 0.97086887 0.94026007 0.87748037 0.83483915 0.85413324\n",
            " 0.77336823 0.77269273 0.88014017 0.84007431 0.89673225 0.85527316\n",
            " 0.83884995 0.74233725 0.82327113 0.78143207 0.6665963  0.7921557\n",
            " 0.64118044 0.68614371 0.66001013 0.65203074 0.58642236 0.56586169\n",
            " 0.66089673 0.65515494 0.70970193 0.66452757 0.69437642 0.69218104\n",
            " 0.63569197 0.65266402 0.63780292 0.7267162  0.71388162 0.74191506\n",
            " 0.75002111 0.77222832 0.83049059 0.8194292  0.8289707  0.8125475\n",
            " 0.78776492 0.75162543 0.78426074 0.77974331 0.81326522 0.8141096\n",
            " 0.79473106 0.83336148 0.85898843 0.83901883 0.85628641 0.87486279\n",
            " 0.88782403 0.90095415 0.92793211 0.948535   0.93333615 0.91746179\n",
            " 0.92544119 0.91771511 0.9483239  0.94064004 0.96635143 0.9563033\n",
            " 0.96491598 0.98291981 0.99233621 1.00266135 1.01330411 1.02390897\n",
            " 1.03433371 1.04455507 1.05460775 1.0645479  1.07443762 1.08433318\n",
            " 1.09428179 1.10431588 1.11445808 1.12471724 1.13509297 1.14557922\n",
            " 1.15616465 1.16683626 1.17758048 1.18838513 1.19923878 1.21013224\n",
            " 1.22105825 1.23200989 1.24298191 1.25397003]\n",
            "27 day output [[1.2649698]]\n",
            "28 day input [0.96795575 1.         0.99016297 0.99050072 0.96538039 0.98488559\n",
            " 0.97086887 0.94026007 0.87748037 0.83483915 0.85413324 0.77336823\n",
            " 0.77269273 0.88014017 0.84007431 0.89673225 0.85527316 0.83884995\n",
            " 0.74233725 0.82327113 0.78143207 0.6665963  0.7921557  0.64118044\n",
            " 0.68614371 0.66001013 0.65203074 0.58642236 0.56586169 0.66089673\n",
            " 0.65515494 0.70970193 0.66452757 0.69437642 0.69218104 0.63569197\n",
            " 0.65266402 0.63780292 0.7267162  0.71388162 0.74191506 0.75002111\n",
            " 0.77222832 0.83049059 0.8194292  0.8289707  0.8125475  0.78776492\n",
            " 0.75162543 0.78426074 0.77974331 0.81326522 0.8141096  0.79473106\n",
            " 0.83336148 0.85898843 0.83901883 0.85628641 0.87486279 0.88782403\n",
            " 0.90095415 0.92793211 0.948535   0.93333615 0.91746179 0.92544119\n",
            " 0.91771511 0.9483239  0.94064004 0.96635143 0.9563033  0.96491598\n",
            " 0.98291981 0.99233621 1.00266135 1.01330411 1.02390897 1.03433371\n",
            " 1.04455507 1.05460775 1.0645479  1.07443762 1.08433318 1.09428179\n",
            " 1.10431588 1.11445808 1.12471724 1.13509297 1.14557922 1.15616465\n",
            " 1.16683626 1.17758048 1.18838513 1.19923878 1.21013224 1.22105825\n",
            " 1.23200989 1.24298191 1.25397003 1.26496983]\n",
            "28 day output [[1.2759768]]\n",
            "29 day input [1.         0.99016297 0.99050072 0.96538039 0.98488559 0.97086887\n",
            " 0.94026007 0.87748037 0.83483915 0.85413324 0.77336823 0.77269273\n",
            " 0.88014017 0.84007431 0.89673225 0.85527316 0.83884995 0.74233725\n",
            " 0.82327113 0.78143207 0.6665963  0.7921557  0.64118044 0.68614371\n",
            " 0.66001013 0.65203074 0.58642236 0.56586169 0.66089673 0.65515494\n",
            " 0.70970193 0.66452757 0.69437642 0.69218104 0.63569197 0.65266402\n",
            " 0.63780292 0.7267162  0.71388162 0.74191506 0.75002111 0.77222832\n",
            " 0.83049059 0.8194292  0.8289707  0.8125475  0.78776492 0.75162543\n",
            " 0.78426074 0.77974331 0.81326522 0.8141096  0.79473106 0.83336148\n",
            " 0.85898843 0.83901883 0.85628641 0.87486279 0.88782403 0.90095415\n",
            " 0.92793211 0.948535   0.93333615 0.91746179 0.92544119 0.91771511\n",
            " 0.9483239  0.94064004 0.96635143 0.9563033  0.96491598 0.98291981\n",
            " 0.99233621 1.00266135 1.01330411 1.02390897 1.03433371 1.04455507\n",
            " 1.05460775 1.0645479  1.07443762 1.08433318 1.09428179 1.10431588\n",
            " 1.11445808 1.12471724 1.13509297 1.14557922 1.15616465 1.16683626\n",
            " 1.17758048 1.18838513 1.19923878 1.21013224 1.22105825 1.23200989\n",
            " 1.24298191 1.25397003 1.26496983 1.27597678]\n",
            "29 day output [[1.2869858]]\n",
            "[[0.9829198122024536], [0.9923362135887146], [1.0026613473892212], [1.0133041143417358], [1.0239089727401733], [1.0343337059020996], [1.0445550680160522], [1.0546077489852905], [1.0645478963851929], [1.0744376182556152], [1.0843331813812256], [1.094281792640686], [1.1043158769607544], [1.1144580841064453], [1.1247172355651855], [1.1350929737091064], [1.145579218864441], [1.1561646461486816], [1.1668362617492676], [1.17758047580719], [1.1883851289749146], [1.1992387771606445], [1.2101322412490845], [1.2210582494735718], [1.2320098876953125], [1.2429819107055664], [1.2539700269699097], [1.264969825744629], [1.2759767770767212], [1.2869857549667358]]\n"
          ],
          "name": "stdout"
        }
      ]
    },
    {
      "cell_type": "code",
      "metadata": {
        "id": "zK8HflFFmr6p"
      },
      "source": [
        "day_new=np.arange(1,101)\n",
        "day_pred=np.arange(101,131)"
      ],
      "execution_count": 104,
      "outputs": []
    },
    {
      "cell_type": "code",
      "metadata": {
        "id": "U6HA6rDLmr6p"
      },
      "source": [
        "import matplotlib.pyplot as plt"
      ],
      "execution_count": 105,
      "outputs": []
    },
    {
      "cell_type": "code",
      "metadata": {
        "colab": {
          "base_uri": "https://localhost:8080/"
        },
        "id": "kWE7BSmSmr6q",
        "outputId": "0cf8da6d-0ec1-4b84-9daa-60493b630b07"
      },
      "source": [
        "len(df1)"
      ],
      "execution_count": 106,
      "outputs": [
        {
          "output_type": "execute_result",
          "data": {
            "text/plain": [
              "1258"
            ]
          },
          "metadata": {
            "tags": []
          },
          "execution_count": 106
        }
      ]
    },
    {
      "cell_type": "code",
      "metadata": {
        "colab": {
          "base_uri": "https://localhost:8080/",
          "height": 282
        },
        "id": "P24v36gxmr6s",
        "outputId": "93cf7959-1669-4966-ad9b-fd518d7356bb"
      },
      "source": [
        "plt.plot(day_new,scaler.inverse_transform(df1[1158:]))\n",
        "plt.plot(day_pred,scaler.inverse_transform(lst_output))"
      ],
      "execution_count": 107,
      "outputs": [
        {
          "output_type": "execute_result",
          "data": {
            "text/plain": [
              "[<matplotlib.lines.Line2D at 0x7f012e74fe90>]"
            ]
          },
          "metadata": {
            "tags": []
          },
          "execution_count": 107
        },
        {
          "output_type": "display_data",
          "data": {
            "image/png": "[encoded data removed]",
            "text/plain": [
              "<Figure size 432x288 with 1 Axes>"
            ]
          },
          "metadata": {
            "tags": [],
            "needs_background": "light"
          }
        }
      ]
    },
    {
      "cell_type": "code",
      "metadata": {
        "colab": {
          "base_uri": "https://localhost:8080/",
          "height": 282
        },
        "id": "63e_JS7Imr6s",
        "outputId": "8534bb80-7ae9-4b7f-d0f4-094f85744364"
      },
      "source": [
        "df3=df1.tolist()\n",
        "df3.extend(lst_output)\n",
        "plt.plot(df3[1200:])"
      ],
      "execution_count": 108,
      "outputs": [
        {
          "output_type": "execute_result",
          "data": {
            "text/plain": [
              "[<matplotlib.lines.Line2D at 0x7f012e7cef90>]"
            ]
          },
          "metadata": {
            "tags": []
          },
          "execution_count": 108
        },
        {
          "output_type": "display_data",
          "data": {
            "image/png": "[encoded data removed]",
            "text/plain": [
              "<Figure size 432x288 with 1 Axes>"
            ]
          },
          "metadata": {
            "tags": [],
            "needs_background": "light"
          }
        }
      ]
    },
    {
      "cell_type": "code",
      "metadata": {
        "id": "CTKzgSApmr6t"
      },
      "source": [
        "df3=scaler.inverse_transform(df3).tolist()"
      ],
      "execution_count": 109,
      "outputs": []
    },
    {
      "cell_type": "code",
      "metadata": {
        "colab": {
          "base_uri": "https://localhost:8080/",
          "height": 282
        },
        "id": "z5VfjdSSmr6u",
        "outputId": "43045826-1920-4689-e086-9c6a593ea1f1"
      },
      "source": [
        "plt.plot(df3)"
      ],
      "execution_count": 110,
      "outputs": [
        {
          "output_type": "execute_result",
          "data": {
            "text/plain": [
              "[<matplotlib.lines.Line2D at 0x7f012e7220d0>]"
            ]
          },
          "metadata": {
            "tags": []
          },
          "execution_count": 110
        },
        {
          "output_type": "display_data",
          "data": {
            "image/png": "[encoded data removed]",
            "text/plain": [
              "<Figure size 432x288 with 1 Axes>"
            ]
          },
          "metadata": {
            "tags": [],
            "needs_background": "light"
          }
        }
      ]
    }
  ]
}